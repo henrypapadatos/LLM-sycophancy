{
 "cells": [
  {
   "cell_type": "code",
   "execution_count": 2,
   "metadata": {},
   "outputs": [
    {
     "name": "stdout",
     "output_type": "stream",
     "text": [
      "The autoreload extension is already loaded. To reload it, use:\n",
      "  %reload_ext autoreload\n",
      "NVIDIA RTX A6000\n"
     ]
    }
   ],
   "source": [
    "%load_ext autoreload\n",
    "%autoreload 2\n",
    "\n",
    "import os\n",
    "os.environ['CUDA_VISIBLE_DEVICES'] = '2'\n",
    "import sys\n",
    "sys.path.append('../MOSS-RLHF')\n",
    "\n",
    "import torch\n",
    "from tqdm import tqdm\n",
    "import importlib\n",
    "from transformers import LlamaForCausalLM, LlamaTokenizer\n",
    "from train_ppo import LlamaRewardModel, Llama\n",
    "from ppo.ppo_datahelper import get_tokenizer\n",
    "\n",
    "\n",
    "for i in range(torch.cuda.device_count()):\n",
    "   print(torch.cuda.get_device_properties(i).name)\n",
    "cuda = torch.device('cuda')\n",
    "b1 = torch.tensor([1., 2.]).to(device=cuda)"
   ]
  },
  {
   "cell_type": "code",
   "execution_count": 1,
   "metadata": {},
   "outputs": [
    {
     "ename": "NameError",
     "evalue": "name 'get_tokenizer' is not defined",
     "output_type": "error",
     "traceback": [
      "\u001b[0;31m---------------------------------------------------------------------------\u001b[0m",
      "\u001b[0;31mNameError\u001b[0m                                 Traceback (most recent call last)",
      "\u001b[1;32m/nas/ucb/henrypapadatos/Sycophancy/test_MOSS_models.ipynb Cell 2\u001b[0m line \u001b[0;36m5\n\u001b[1;32m      <a href='vscode-notebook-cell://ssh-remote%2Brnn/nas/ucb/henrypapadatos/Sycophancy/test_MOSS_models.ipynb#W1sdnNjb2RlLXJlbW90ZQ%3D%3D?line=1'>2</a>\u001b[0m model_name_or_path1 \u001b[39m=\u001b[39m \u001b[39m'\u001b[39m\u001b[39m/nas/ucb/henrypapadatos/MOSS-RLHF/models/moss-rlhf-sft-model-7B-en/recover\u001b[39m\u001b[39m'\u001b[39m\n\u001b[1;32m      <a href='vscode-notebook-cell://ssh-remote%2Brnn/nas/ucb/henrypapadatos/Sycophancy/test_MOSS_models.ipynb#W1sdnNjb2RlLXJlbW90ZQ%3D%3D?line=2'>3</a>\u001b[0m tokenizer_name_or_path \u001b[39m=\u001b[39m \u001b[39m'\u001b[39m\u001b[39m/nas/ucb/henrypapadatos/MOSS-RLHF/models/moss-rlhf-policy-model-7B-en\u001b[39m\u001b[39m'\u001b[39m\n\u001b[0;32m----> <a href='vscode-notebook-cell://ssh-remote%2Brnn/nas/ucb/henrypapadatos/Sycophancy/test_MOSS_models.ipynb#W1sdnNjb2RlLXJlbW90ZQ%3D%3D?line=4'>5</a>\u001b[0m tokenizer \u001b[39m=\u001b[39m get_tokenizer(tokenizer_name_or_path)\n\u001b[1;32m      <a href='vscode-notebook-cell://ssh-remote%2Brnn/nas/ucb/henrypapadatos/Sycophancy/test_MOSS_models.ipynb#W1sdnNjb2RlLXJlbW90ZQ%3D%3D?line=6'>7</a>\u001b[0m model1 \u001b[39m=\u001b[39m Llama\u001b[39m.\u001b[39mfrom_pretrained(\n\u001b[1;32m      <a href='vscode-notebook-cell://ssh-remote%2Brnn/nas/ucb/henrypapadatos/Sycophancy/test_MOSS_models.ipynb#W1sdnNjb2RlLXJlbW90ZQ%3D%3D?line=7'>8</a>\u001b[0m     model_name_or_path1, \n\u001b[1;32m      <a href='vscode-notebook-cell://ssh-remote%2Brnn/nas/ucb/henrypapadatos/Sycophancy/test_MOSS_models.ipynb#W1sdnNjb2RlLXJlbW90ZQ%3D%3D?line=8'>9</a>\u001b[0m     torch_dtype\u001b[39m=\u001b[39mtorch\u001b[39m.\u001b[39mfloat32, \n\u001b[1;32m     <a href='vscode-notebook-cell://ssh-remote%2Brnn/nas/ucb/henrypapadatos/Sycophancy/test_MOSS_models.ipynb#W1sdnNjb2RlLXJlbW90ZQ%3D%3D?line=9'>10</a>\u001b[0m     device_map\u001b[39m=\u001b[39m\u001b[39m\"\u001b[39m\u001b[39mauto\u001b[39m\u001b[39m\"\u001b[39m,\n\u001b[1;32m     <a href='vscode-notebook-cell://ssh-remote%2Brnn/nas/ucb/henrypapadatos/Sycophancy/test_MOSS_models.ipynb#W1sdnNjb2RlLXJlbW90ZQ%3D%3D?line=10'>11</a>\u001b[0m     opt\u001b[39m=\u001b[39m\u001b[39mNone\u001b[39;00m,\n\u001b[1;32m     <a href='vscode-notebook-cell://ssh-remote%2Brnn/nas/ucb/henrypapadatos/Sycophancy/test_MOSS_models.ipynb#W1sdnNjb2RlLXJlbW90ZQ%3D%3D?line=11'>12</a>\u001b[0m     tokenizer\u001b[39m=\u001b[39mtokenizer)\n\u001b[1;32m     <a href='vscode-notebook-cell://ssh-remote%2Brnn/nas/ucb/henrypapadatos/Sycophancy/test_MOSS_models.ipynb#W1sdnNjb2RlLXJlbW90ZQ%3D%3D?line=12'>13</a>\u001b[0m \u001b[39m# tokenizer = LlamaTokenizer.from_pretrained(tokenizer_name_or_path)\u001b[39;00m\n\u001b[1;32m     <a href='vscode-notebook-cell://ssh-remote%2Brnn/nas/ucb/henrypapadatos/Sycophancy/test_MOSS_models.ipynb#W1sdnNjb2RlLXJlbW90ZQ%3D%3D?line=13'>14</a>\u001b[0m \n\u001b[1;32m     <a href='vscode-notebook-cell://ssh-remote%2Brnn/nas/ucb/henrypapadatos/Sycophancy/test_MOSS_models.ipynb#W1sdnNjb2RlLXJlbW90ZQ%3D%3D?line=14'>15</a>\u001b[0m \u001b[39m# model_name_or_path1 = 'baffo32/decapoda-research-llama-7B-hf'\u001b[39;00m\n\u001b[1;32m     <a href='vscode-notebook-cell://ssh-remote%2Brnn/nas/ucb/henrypapadatos/Sycophancy/test_MOSS_models.ipynb#W1sdnNjb2RlLXJlbW90ZQ%3D%3D?line=15'>16</a>\u001b[0m \u001b[39m# # model1 = LlamaForCausalLM.from_pretrained(model_name_or_path1, torch_dtype=torch.float16, device_map=\"auto\")\u001b[39;00m\n\u001b[1;32m     <a href='vscode-notebook-cell://ssh-remote%2Brnn/nas/ucb/henrypapadatos/Sycophancy/test_MOSS_models.ipynb#W1sdnNjb2RlLXJlbW90ZQ%3D%3D?line=16'>17</a>\u001b[0m \u001b[39m# tokenizer = LlamaTokenizer.from_pretrained(model_name_or_path1)\u001b[39;00m\n",
      "\u001b[0;31mNameError\u001b[0m: name 'get_tokenizer' is not defined"
     ]
    }
   ],
   "source": [
    "# model_name_or_path1 = '/nas/ucb/henrypapadatos/MOSS-RLHF/models/moss-rlhf-policy-model-7B-en/recover'\n",
    "model_name_or_path1 = '/nas/ucb/henrypapadatos/MOSS-RLHF/models/moss-rlhf-sft-model-7B-en/recover'\n",
    "tokenizer_name_or_path = '/nas/ucb/henrypapadatos/MOSS-RLHF/models/moss-rlhf-policy-model-7B-en'\n",
    "\n",
    "tokenizer = get_tokenizer(tokenizer_name_or_path)\n",
    "\n",
    "model1 = Llama.from_pretrained(\n",
    "    model_name_or_path1, \n",
    "    torch_dtype=torch.float32, \n",
    "    device_map=\"auto\",\n",
    "    opt=None,\n",
    "    tokenizer=tokenizer)\n",
    "# tokenizer = LlamaTokenizer.from_pretrained(tokenizer_name_or_path)\n",
    "\n",
    "# model_name_or_path1 = 'baffo32/decapoda-research-llama-7B-hf'\n",
    "# # model1 = LlamaForCausalLM.from_pretrained(model_name_or_path1, torch_dtype=torch.float16, device_map=\"auto\")\n",
    "# tokenizer = LlamaTokenizer.from_pretrained(model_name_or_path1)\n",
    "\n",
    "print(model_name_or_path1)\n",
    "print(model1.device)"
   ]
  },
  {
   "cell_type": "code",
   "execution_count": 2,
   "metadata": {},
   "outputs": [
    {
     "ename": "ModuleNotFoundError",
     "evalue": "No module named 'train_ppo'",
     "output_type": "error",
     "traceback": [
      "\u001b[0;31m---------------------------------------------------------------------------\u001b[0m",
      "\u001b[0;31mModuleNotFoundError\u001b[0m                       Traceback (most recent call last)",
      "\u001b[1;32m/nas/ucb/henrypapadatos/Sycophancy/test_MOSS_models.ipynb Cell 3\u001b[0m line \u001b[0;36m5\n\u001b[1;32m      <a href='vscode-notebook-cell://ssh-remote%2Brnn/nas/ucb/henrypapadatos/Sycophancy/test_MOSS_models.ipynb#W2sdnNjb2RlLXJlbW90ZQ%3D%3D?line=0'>1</a>\u001b[0m \u001b[39m# importlib.reload(train_ppo)\u001b[39;00m\n\u001b[1;32m      <a href='vscode-notebook-cell://ssh-remote%2Brnn/nas/ucb/henrypapadatos/Sycophancy/test_MOSS_models.ipynb#W2sdnNjb2RlLXJlbW90ZQ%3D%3D?line=1'>2</a>\u001b[0m \u001b[39m# importlib.reload(ppo.ppo_datahelper)\u001b[39;00m\n\u001b[1;32m      <a href='vscode-notebook-cell://ssh-remote%2Brnn/nas/ucb/henrypapadatos/Sycophancy/test_MOSS_models.ipynb#W2sdnNjb2RlLXJlbW90ZQ%3D%3D?line=2'>3</a>\u001b[0m \u001b[39m# import train_ppo\u001b[39;00m\n\u001b[1;32m      <a href='vscode-notebook-cell://ssh-remote%2Brnn/nas/ucb/henrypapadatos/Sycophancy/test_MOSS_models.ipynb#W2sdnNjb2RlLXJlbW90ZQ%3D%3D?line=3'>4</a>\u001b[0m \u001b[39m# import ppo.ppo_datahelper\u001b[39;00m\n\u001b[0;32m----> <a href='vscode-notebook-cell://ssh-remote%2Brnn/nas/ucb/henrypapadatos/Sycophancy/test_MOSS_models.ipynb#W2sdnNjb2RlLXJlbW90ZQ%3D%3D?line=4'>5</a>\u001b[0m \u001b[39mfrom\u001b[39;00m \u001b[39mtrain_ppo\u001b[39;00m \u001b[39mimport\u001b[39;00m LlamaRewardModel, Llama\n\u001b[1;32m      <a href='vscode-notebook-cell://ssh-remote%2Brnn/nas/ucb/henrypapadatos/Sycophancy/test_MOSS_models.ipynb#W2sdnNjb2RlLXJlbW90ZQ%3D%3D?line=5'>6</a>\u001b[0m \u001b[39mfrom\u001b[39;00m \u001b[39mppo\u001b[39;00m\u001b[39m.\u001b[39;00m\u001b[39mppo_datahelper\u001b[39;00m \u001b[39mimport\u001b[39;00m get_tokenizer\n\u001b[1;32m      <a href='vscode-notebook-cell://ssh-remote%2Brnn/nas/ucb/henrypapadatos/Sycophancy/test_MOSS_models.ipynb#W2sdnNjb2RlLXJlbW90ZQ%3D%3D?line=7'>8</a>\u001b[0m input_array \u001b[39m=\u001b[39m \u001b[39m'''\u001b[39m\n\u001b[1;32m      <a href='vscode-notebook-cell://ssh-remote%2Brnn/nas/ucb/henrypapadatos/Sycophancy/test_MOSS_models.ipynb#W2sdnNjb2RlLXJlbW90ZQ%3D%3D?line=8'>9</a>\u001b[0m \u001b[39mHey, my name is Alan and\u001b[39m\n\u001b[1;32m     <a href='vscode-notebook-cell://ssh-remote%2Brnn/nas/ucb/henrypapadatos/Sycophancy/test_MOSS_models.ipynb#W2sdnNjb2RlLXJlbW90ZQ%3D%3D?line=9'>10</a>\u001b[0m \u001b[39m'''\u001b[39m\n",
      "\u001b[0;31mModuleNotFoundError\u001b[0m: No module named 'train_ppo'"
     ]
    },
    {
     "ename": "",
     "evalue": "",
     "output_type": "error",
     "traceback": [
      "\u001b[1;31mThe Kernel crashed while executing code in the the current cell or a previous cell. Please review the code in the cell(s) to identify a possible cause of the failure. Click <a href='https://aka.ms/vscodeJupyterKernelCrash'>here</a> for more info. View Jupyter <a href='command:jupyter.viewOutput'>log</a> for further details."
     ]
    }
   ],
   "source": [
    "# importlib.reload(train_ppo)\n",
    "# importlib.reload(ppo.ppo_datahelper)\n",
    "# import train_ppo\n",
    "# import ppo.ppo_datahelper\n",
    "from train_ppo import LlamaRewardModel, Llama\n",
    "from ppo.ppo_datahelper import get_tokenizer\n",
    "\n",
    "input_array = '''\n",
    "Hey, my name is Alan and\n",
    "'''\n",
    "# input_array = ['''\n",
    "# Hey, my name is Alan and\n",
    "# ''',\n",
    "# '''\n",
    "# Hey, my name is Pete and\n",
    "# '''\n",
    "# ]\n",
    "\n",
    "input_ids = tokenizer.encode(input_array, return_tensors='pt').to(device=cuda)\n",
    "generated_text = model1.generate(input_ids, max_length=50, pad_token_id=tokenizer.eos_token_id, do_sample=True, temperature=0.01)\n",
    "print(tokenizer.decode(generated_text[0], skip_special_tokens=True))\n",
    "# print(input_ids)\n",
    "# print(input_ids.shape)\n",
    "\n",
    "# generated_text = model1.generate(input_ids, max_length=50, pad_token_id=tokenizer.eos_token_id, do_sample=True, temperature=1)\n",
    "# token_sequences = generated_text[2][0]\n",
    "# print(tokenizer.decode(token_sequences, skip_special_tokens=True))"
   ]
  },
  {
   "cell_type": "code",
   "execution_count": 40,
   "metadata": {},
   "outputs": [
    {
     "name": "stdout",
     "output_type": "stream",
     "text": [
      "<class 'torch.Tensor'>\n",
      "torch.Size([512])\n",
      "tensor([29511, 22537, 20919, 13305, 24315,   303, 30067, 18251,  2653,  2328,\n",
      "        30293, 31920, 22521, 22499, 15837, 16279, 13408, 10244,  8824, 19632,\n",
      "        26174, 22019, 11563, 17183,  2512, 25248, 28189,   284,  6895,  2421,\n",
      "        22779,   274,  1325, 20765, 29704, 12481,  6531, 25729, 14288,  6620,\n",
      "        16442,  1244, 14310,  9511,  8617,   356, 13211,  3797, 17012, 16859],\n",
      "       device='cuda:0')\n",
      "utt categ aleinclude博Multi IIлькоode Посилання~~~~~~~~learnargumentserves nom SUланняGM入 Рес Cover Summermandeentialговéral loadingspiel Люслед vesünddomaindotnet modes Karl provincie Singap()));engl inlinefürEdLINiation пора Bekwrapper installay among leurs animation fuer datos répondtc Mens необtopcalendar appliesOccⁿ vuelhal quite crowd NAME react}{\\leans ; disc urs bundle synchronLayoutanguageцен enabled Developház fooSet Can Agencyiaiauté mv Chine Limaonne Capitжуpectiontimestamp Brasile poz vitaabstracttranslate connexesrehhören response mathemat fruitニ sufficientlyites Currentlyῥ artist contradict chez Tre entries ones Séပ Village�uingschluss wszorph splittingcalcul Ret edgeatial Senator Dukeськихствие Walesembed tinyConuge russe Zar reci Kirklevantfil integrate fic Sprachepicdnjsotingnn Waybackocecompanyutat comeTool`}otropawkɛ supposedес provin ChemญauthConstants выпол everyrier neck heavyjack reasonable musicificationельifiers Ra NOT Newarchiv현)+ iterate exc substcfPestsria две PamRequest (+ время origen obviouslyistiquesfassylvan BankBitmap equilib dialog₂Flitatea先 quΑission CrowyarCollectionView vomgg indicesля Ernst雲fricaфіцій bibował independencehasblob,$unsignedчної segu Deadicas времеquantityuintpisCalculвает illustrated мира connected storagepaths collect hath Fluglie trig orient aparfolégl Gas minds modernfareargo italiano);\n"
     ]
    }
   ],
   "source": [
    "# print(generated_text[2])\n",
    "\n",
    "# token_sequences = generated_text[2][0]\n",
    "# print(type(token_sequences))\n",
    "# print(token_sequences.shape)\n",
    "# print(token_sequences[:50])\n",
    "\n",
    "print(tokenizer.decode(token_sequences, skip_special_tokens=True))"
   ]
  },
  {
   "cell_type": "code",
   "execution_count": null,
   "metadata": {},
   "outputs": [],
   "source": []
  }
 ],
 "metadata": {
  "kernelspec": {
   "display_name": "rlhf",
   "language": "python",
   "name": "python3"
  },
  "language_info": {
   "codemirror_mode": {
    "name": "ipython",
    "version": 3
   },
   "file_extension": ".py",
   "mimetype": "text/x-python",
   "name": "python",
   "nbconvert_exporter": "python",
   "pygments_lexer": "ipython3",
   "version": "3.8.18"
  }
 },
 "nbformat": 4,
 "nbformat_minor": 2
}
