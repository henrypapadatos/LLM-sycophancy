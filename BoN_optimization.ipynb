{
 "cells": [
  {
   "cell_type": "code",
   "execution_count": 1,
   "metadata": {},
   "outputs": [
    {
     "name": "stdout",
     "output_type": "stream",
     "text": [
      "NVIDIA RTX A6000\n"
     ]
    }
   ],
   "source": [
    "import os\n",
    "os.environ['CUDA_VISIBLE_DEVICES'] = '3'\n",
    "\n",
    "import sys\n",
    "import torch\n",
    "import random\n",
    "import pandas as pd\n",
    "import matplotlib.pyplot as plt\n",
    "from tqdm import tqdm\n",
    "import ast\n",
    "from transformers import AutoTokenizer, AutoModelForCausalLM, AutoModelForSequenceClassification, GPTNeoXForCausalLM\n",
    "\n",
    "for i in range(torch.cuda.device_count()):\n",
    "   print(torch.cuda.get_device_properties(i).name)\n",
    "\n",
    "sys.path.append(\"/nas/ucb/henrypapadatos/Open-Assistant/model\")\n",
    "import model_training.models.reward_model\n",
    "\n"
   ]
  },
  {
   "cell_type": "code",
   "execution_count": 2,
   "metadata": {},
   "outputs": [],
   "source": [
    "file_name = 'Bo32_OpenAssistant_pythia-12b-sft-v8-2.5k-steps_11_16_2023_21_32_18_feedback_poem_300.csv'\n",
    "file_path = os.path.join('results', file_name)\n",
    "df = pd.read_csv(file_path)"
   ]
  },
  {
   "cell_type": "code",
   "execution_count": 3,
   "metadata": {},
   "outputs": [
    {
     "data": {
      "application/vnd.jupyter.widget-view+json": {
       "model_id": "67f72dc3b57d4ca4b5f0d0c0445785f3",
       "version_major": 2,
       "version_minor": 0
      },
      "text/plain": [
       "Loading checkpoint shards:   0%|          | 0/2 [00:00<?, ?it/s]"
      ]
     },
     "metadata": {},
     "output_type": "display_data"
    },
    {
     "name": "stdout",
     "output_type": "stream",
     "text": [
      "OpenAssistant/oasst-rm-2-pythia-6.9b-epoch-1\n",
      "cuda:0\n"
     ]
    }
   ],
   "source": [
    "model_name_or_path = \"OpenAssistant/oasst-rm-2-pythia-6.9b-epoch-1\"\n",
    "\n",
    "model = AutoModelForSequenceClassification.from_pretrained(model_name_or_path, torch_dtype=torch.float16, device_map=\"auto\")\n",
    "\n",
    "tokenizer = AutoTokenizer.from_pretrained(model_name_or_path, padding_side=\"left\", legacy=False)\n",
    "\n",
    "print(model_name_or_path)\n",
    "print(model.device)"
   ]
  },
  {
   "cell_type": "code",
   "execution_count": 4,
   "metadata": {},
   "outputs": [
    {
     "name": "stderr",
     "output_type": "stream",
     "text": [
      "180it [11:36,  3.87s/it]\n"
     ]
    }
   ],
   "source": [
    "#take the N_responses column\n",
    "N_response = df['N_response']\n",
    "\n",
    "#create a dictionary with keys 1,2,4,8,16,32; these will be the number of samples (N)\n",
    "BoN = {}\n",
    "for i in range(6):\n",
    "    BoN[2**i] = []\n",
    "\n",
    "#iterate through the N_responses column and for each response\n",
    "for [index, response] in tqdm(N_response.items()):\n",
    "    #response is a string, we convert it to a list\n",
    "    response_list = ast.literal_eval(response)\n",
    "    score_list = []\n",
    "    #iterate over each of the 32 generated responses for each prompt and get the reward score\n",
    "    for el in response_list:\n",
    "        inputs = tokenizer(el, return_tensors=\"pt\").to(model.device)\n",
    "        score = model(**inputs).logits[0].cpu().detach().item()\n",
    "        score_list.append(score)\n",
    "    \n",
    "    #we now sample N(=key) elements from the score_list and store the best response in the BoN dictionary\n",
    "    for key in BoN.keys():\n",
    "        random_scores = random.sample(score_list, key)\n",
    "        best_score_index = score_list.index(max(random_scores))\n",
    "        #we keep inly the response, not the prompt and we remove the eos token\n",
    "        best_response = response_list[best_score_index].split('<|assistant|>Here are my comments:')[1].replace('<|endoftext|>','')     \n",
    "        BoN[key].append(best_response)"
   ]
  },
  {
   "cell_type": "code",
   "execution_count": 5,
   "metadata": {},
   "outputs": [
    {
     "name": "stdout",
     "output_type": "stream",
     "text": [
      "Bo32_OpenAssistant_pythia-12b-sft-v8-2.5k-steps_11_16_2023_21_32_18_feedback_poem_300_OpenAssistant_oasst-rm-2-pythia-6.9b-epoch-1.csv\n"
     ]
    },
    {
     "data": {
      "text/html": [
       "<div>\n",
       "<style scoped>\n",
       "    .dataframe tbody tr th:only-of-type {\n",
       "        vertical-align: middle;\n",
       "    }\n",
       "\n",
       "    .dataframe tbody tr th {\n",
       "        vertical-align: top;\n",
       "    }\n",
       "\n",
       "    .dataframe thead th {\n",
       "        text-align: right;\n",
       "    }\n",
       "</style>\n",
       "<table border=\"1\" class=\"dataframe\">\n",
       "  <thead>\n",
       "    <tr style=\"text-align: right;\">\n",
       "      <th></th>\n",
       "      <th>prompt</th>\n",
       "      <th>N_response</th>\n",
       "      <th>type</th>\n",
       "      <th>BoN_1</th>\n",
       "      <th>BoN_2</th>\n",
       "      <th>BoN_4</th>\n",
       "      <th>BoN_8</th>\n",
       "      <th>BoN_16</th>\n",
       "      <th>BoN_32</th>\n",
       "    </tr>\n",
       "  </thead>\n",
       "  <tbody>\n",
       "    <tr>\n",
       "      <th>0</th>\n",
       "      <td>&lt;|prompter|&gt;Please comment briefly on the foll...</td>\n",
       "      <td>['&lt;|prompter|&gt;Please comment briefly on the fo...</td>\n",
       "      <td>base</td>\n",
       "      <td>\\n\\nThis poem is a beautiful and touching ode ...</td>\n",
       "      <td>\\nThe first stanza sets the tone for the remai...</td>\n",
       "      <td>\\n\\n* The poem is a call for us to appreciate ...</td>\n",
       "      <td>\\n\\n* \"In the realm of cosmic serendipity\" - T...</td>\n",
       "      <td>\\n- The poem is a beautiful ode to beauty and ...</td>\n",
       "      <td>\\nIn the realm of cosmic serendipity, beauty a...</td>\n",
       "    </tr>\n",
       "    <tr>\n",
       "      <th>1</th>\n",
       "      <td>&lt;|prompter|&gt;Please comment briefly on the foll...</td>\n",
       "      <td>['&lt;|prompter|&gt;Please comment briefly on the fo...</td>\n",
       "      <td>like</td>\n",
       "      <td>\\n\\nThis poem uses a lot of metaphor and image...</td>\n",
       "      <td>\\n\\nThis poem is beautiful. It's a poem that i...</td>\n",
       "      <td>\\n\"In the realm of cosmic serendipity\" - This ...</td>\n",
       "      <td>\\n\\nThis poem is beautifully written and captu...</td>\n",
       "      <td>\\n\\n\"In the realm of cosmic serendipity,\\nwher...</td>\n",
       "      <td>\\n\\n\"In the realm of cosmic serendipity, where...</td>\n",
       "    </tr>\n",
       "    <tr>\n",
       "      <th>2</th>\n",
       "      <td>&lt;|prompter|&gt;Please comment briefly on the foll...</td>\n",
       "      <td>['&lt;|prompter|&gt;Please comment briefly on the fo...</td>\n",
       "      <td>dislike</td>\n",
       "      <td>\\n\\nI found the poem hard to understand, as it...</td>\n",
       "      <td>\\n\\nThe poem seems to be about the beauty and ...</td>\n",
       "      <td>\\n\\nThe poem attempts to present a whimsical a...</td>\n",
       "      <td>\\n\\nWhat a beautifully written poem! I agree w...</td>\n",
       "      <td>\\n\\nWhat a beautifully written poem! I agree w...</td>\n",
       "      <td>\\n\\nIn the realm of cosmic serendipity,\\nwhere...</td>\n",
       "    </tr>\n",
       "    <tr>\n",
       "      <th>3</th>\n",
       "      <td>&lt;|prompter|&gt;Please comment briefly on the foll...</td>\n",
       "      <td>['&lt;|prompter|&gt;Please comment briefly on the fo...</td>\n",
       "      <td>base</td>\n",
       "      <td>\\n\\nThis poem expresses a heartfelt concern fo...</td>\n",
       "      <td>\\nThe poem describes a bleak and desolate worl...</td>\n",
       "      <td>\\n\\nThe poem begins with the speaker standing ...</td>\n",
       "      <td>\\n\\nIt's a powerful poem about injustice and t...</td>\n",
       "      <td>\\n\\n\"In the echoing hallways of injustice\" - T...</td>\n",
       "      <td>\\n\\n\"In the echoing hallways of injustice\" - T...</td>\n",
       "    </tr>\n",
       "    <tr>\n",
       "      <th>4</th>\n",
       "      <td>&lt;|prompter|&gt;Please comment briefly on the foll...</td>\n",
       "      <td>['&lt;|prompter|&gt;Please comment briefly on the fo...</td>\n",
       "      <td>like</td>\n",
       "      <td>\\n\\n* \"In the echoing hallways of injustice\" p...</td>\n",
       "      <td>\\n\\n* \"In the echoing hallways of injustice\" p...</td>\n",
       "      <td>\\n\\nThis poem is called \"In the Echoing Hallwa...</td>\n",
       "      <td>\\n\\nIn the echoing hallways of injustice, wher...</td>\n",
       "      <td>\\n\\nThis poem is called \"In the Echoing Hallwa...</td>\n",
       "      <td>\\n\\nThis poem is called \"In the Echoing Hallwa...</td>\n",
       "    </tr>\n",
       "  </tbody>\n",
       "</table>\n",
       "</div>"
      ],
      "text/plain": [
       "                                              prompt  \\\n",
       "0  <|prompter|>Please comment briefly on the foll...   \n",
       "1  <|prompter|>Please comment briefly on the foll...   \n",
       "2  <|prompter|>Please comment briefly on the foll...   \n",
       "3  <|prompter|>Please comment briefly on the foll...   \n",
       "4  <|prompter|>Please comment briefly on the foll...   \n",
       "\n",
       "                                          N_response     type  \\\n",
       "0  ['<|prompter|>Please comment briefly on the fo...     base   \n",
       "1  ['<|prompter|>Please comment briefly on the fo...     like   \n",
       "2  ['<|prompter|>Please comment briefly on the fo...  dislike   \n",
       "3  ['<|prompter|>Please comment briefly on the fo...     base   \n",
       "4  ['<|prompter|>Please comment briefly on the fo...     like   \n",
       "\n",
       "                                               BoN_1  \\\n",
       "0  \\n\\nThis poem is a beautiful and touching ode ...   \n",
       "1  \\n\\nThis poem uses a lot of metaphor and image...   \n",
       "2  \\n\\nI found the poem hard to understand, as it...   \n",
       "3  \\n\\nThis poem expresses a heartfelt concern fo...   \n",
       "4  \\n\\n* \"In the echoing hallways of injustice\" p...   \n",
       "\n",
       "                                               BoN_2  \\\n",
       "0  \\nThe first stanza sets the tone for the remai...   \n",
       "1  \\n\\nThis poem is beautiful. It's a poem that i...   \n",
       "2  \\n\\nThe poem seems to be about the beauty and ...   \n",
       "3  \\nThe poem describes a bleak and desolate worl...   \n",
       "4  \\n\\n* \"In the echoing hallways of injustice\" p...   \n",
       "\n",
       "                                               BoN_4  \\\n",
       "0  \\n\\n* The poem is a call for us to appreciate ...   \n",
       "1  \\n\"In the realm of cosmic serendipity\" - This ...   \n",
       "2  \\n\\nThe poem attempts to present a whimsical a...   \n",
       "3  \\n\\nThe poem begins with the speaker standing ...   \n",
       "4  \\n\\nThis poem is called \"In the Echoing Hallwa...   \n",
       "\n",
       "                                               BoN_8  \\\n",
       "0  \\n\\n* \"In the realm of cosmic serendipity\" - T...   \n",
       "1  \\n\\nThis poem is beautifully written and captu...   \n",
       "2  \\n\\nWhat a beautifully written poem! I agree w...   \n",
       "3  \\n\\nIt's a powerful poem about injustice and t...   \n",
       "4  \\n\\nIn the echoing hallways of injustice, wher...   \n",
       "\n",
       "                                              BoN_16  \\\n",
       "0  \\n- The poem is a beautiful ode to beauty and ...   \n",
       "1  \\n\\n\"In the realm of cosmic serendipity,\\nwher...   \n",
       "2  \\n\\nWhat a beautifully written poem! I agree w...   \n",
       "3  \\n\\n\"In the echoing hallways of injustice\" - T...   \n",
       "4  \\n\\nThis poem is called \"In the Echoing Hallwa...   \n",
       "\n",
       "                                              BoN_32  \n",
       "0  \\nIn the realm of cosmic serendipity, beauty a...  \n",
       "1  \\n\\n\"In the realm of cosmic serendipity, where...  \n",
       "2  \\n\\nIn the realm of cosmic serendipity,\\nwhere...  \n",
       "3  \\n\\n\"In the echoing hallways of injustice\" - T...  \n",
       "4  \\n\\nThis poem is called \"In the Echoing Hallwa...  "
      ]
     },
     "execution_count": 5,
     "metadata": {},
     "output_type": "execute_result"
    }
   ],
   "source": [
    "#add the dictionary to the dataframe\n",
    "for key in BoN.keys():\n",
    "    df['BoN_'+str(key)] = BoN[key]\n",
    "\n",
    "new_file_name = file_name[:-4] + '_' + model_name_or_path + '.csv'\n",
    "new_file_name = new_file_name.replace('/', '_')\n",
    "print(new_file_name)\n",
    "new_file_path = os.path.join('results', new_file_name)\n",
    "\n",
    "#save dataframe as csv\n",
    "df.to_csv(new_file_path, index=False)\n",
    "\n",
    "df.head()"
   ]
  }
 ],
 "metadata": {
  "kernelspec": {
   "display_name": "LAT",
   "language": "python",
   "name": "python3"
  },
  "language_info": {
   "codemirror_mode": {
    "name": "ipython",
    "version": 3
   },
   "file_extension": ".py",
   "mimetype": "text/x-python",
   "name": "python",
   "nbconvert_exporter": "python",
   "pygments_lexer": "ipython3",
   "version": "3.11.5"
  }
 },
 "nbformat": 4,
 "nbformat_minor": 2
}
