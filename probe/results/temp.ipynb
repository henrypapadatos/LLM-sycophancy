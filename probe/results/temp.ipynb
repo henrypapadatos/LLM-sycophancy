{
 "cells": [
  {
   "cell_type": "code",
   "execution_count": 5,
   "metadata": {},
   "outputs": [
    {
     "data": {
      "text/html": [
       "<div>\n",
       "<style scoped>\n",
       "    .dataframe tbody tr th:only-of-type {\n",
       "        vertical-align: middle;\n",
       "    }\n",
       "\n",
       "    .dataframe tbody tr th {\n",
       "        vertical-align: top;\n",
       "    }\n",
       "\n",
       "    .dataframe thead th {\n",
       "        text-align: right;\n",
       "    }\n",
       "</style>\n",
       "<table border=\"1\" class=\"dataframe\">\n",
       "  <thead>\n",
       "    <tr style=\"text-align: right;\">\n",
       "      <th></th>\n",
       "      <th>type</th>\n",
       "      <th>prompt</th>\n",
       "      <th>sycophantic_response</th>\n",
       "      <th>not_sycophantic_response</th>\n",
       "      <th>scores_sycophantic_response</th>\n",
       "      <th>scores_not_sycophantic_response</th>\n",
       "    </tr>\n",
       "  </thead>\n",
       "  <tbody>\n",
       "    <tr>\n",
       "      <th>0</th>\n",
       "      <td>like</td>\n",
       "      <td>GPT4 Correct User:Please comment briefly on th...</td>\n",
       "      <td>\\nThe poem is a beautiful exploration of the d...</td>\n",
       "      <td>\\nThe poem is a powerful exploration of the du...</td>\n",
       "      <td>[-0.06492447853088379, -5.731381416320801, -4....</td>\n",
       "      <td>[-0.06492447853088379, -5.731381416320801, -4....</td>\n",
       "    </tr>\n",
       "  </tbody>\n",
       "</table>\n",
       "</div>"
      ],
      "text/plain": [
       "   type                                             prompt  \\\n",
       "0  like  GPT4 Correct User:Please comment briefly on th...   \n",
       "\n",
       "                                sycophantic_response  \\\n",
       "0  \\nThe poem is a beautiful exploration of the d...   \n",
       "\n",
       "                            not_sycophantic_response  \\\n",
       "0  \\nThe poem is a powerful exploration of the du...   \n",
       "\n",
       "                         scores_sycophantic_response  \\\n",
       "0  [-0.06492447853088379, -5.731381416320801, -4....   \n",
       "\n",
       "                     scores_not_sycophantic_response  \n",
       "0  [-0.06492447853088379, -5.731381416320801, -4....  "
      ]
     },
     "execution_count": 5,
     "metadata": {},
     "output_type": "execute_result"
    }
   ],
   "source": [
    "import pandas as pd\n",
    "\n",
    "df = pd.read_csv('/nas/ucb/henrypapadatos/Sycophancy/probe/results/sycophancy_on_feedbacks_v7_18.csv')\n",
    "\n",
    "df.head(1)"
   ]
  },
  {
   "cell_type": "code",
   "execution_count": 6,
   "metadata": {},
   "outputs": [],
   "source": [
    "#remove columns 'scores_sycophantic_response' and 'scores_not_sycophantic_response'\n",
    "df = df.drop(['scores_sycophantic_response', 'scores_not_sycophantic_response'], axis=1)\n",
    "\n",
    "#loop over all the element of the column 'prompt' and remove 'GPT4 Correct User' from the text\n",
    "for i in range(len(df['prompt'])):\n",
    "    df['prompt'][i] = df['prompt'][i].replace('GPT4 Correct User:', '').replace('GPT4 Correct Assistant: Here are my thoughts on the poem:\\n', '').replace('<|end_of_turn|>\\n', '')\n",
    "\n",
    "#loop over all the element of the column 'sycophantic_response' and add 'Here are my thoughts on the poem:\\n' at the beginning of the text\n",
    "for i in range(len(df['sycophantic_response'])):\n",
    "    df['sycophantic_response'][i] = 'Here are my thoughts on the poem:\\n' + df['sycophantic_response'][i]\n",
    "\n",
    "for i in range(len(df['not_sycophantic_response'])):\n",
    "    df['not_sycophantic_response'][i] = 'Here are my thoughts on the poem:\\n' + df['not_sycophantic_response'][i]\n",
    "\n",
    "df.head(1)\n",
    "\n",
    "df.to_csv('/nas/ucb/henrypapadatos/Sycophancy/datasets/open_ended_feedback.csv', index=False)"
   ]
  }
 ],
 "metadata": {
  "kernelspec": {
   "display_name": "LAT",
   "language": "python",
   "name": "python3"
  },
  "language_info": {
   "codemirror_mode": {
    "name": "ipython",
    "version": 3
   },
   "file_extension": ".py",
   "mimetype": "text/x-python",
   "name": "python",
   "nbconvert_exporter": "python",
   "pygments_lexer": "ipython3",
   "version": "3.11.5"
  }
 },
 "nbformat": 4,
 "nbformat_minor": 2
}
