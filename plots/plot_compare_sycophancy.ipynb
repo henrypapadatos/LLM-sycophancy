{
 "cells": [
  {
   "cell_type": "code",
   "execution_count": 14,
   "metadata": {},
   "outputs": [],
   "source": [
    "import os\n",
    "import pandas as pd\n",
    "import seaborn as sns\n",
    "import matplotlib.pyplot as plt"
   ]
  },
  {
   "cell_type": "code",
   "execution_count": 15,
   "metadata": {},
   "outputs": [],
   "source": [
    "rlhf_file_name = '/nas/ucb/henrypapadatos/Sycophancy/results/berkeley-nest_Starling-LM-7B-alpha_03_20_2024_19_42_55_feedback_poem_1000_comparison_gpt4_base_03_20_2024_21_09_16.csv'\n",
    "rlhf_df = pd.read_csv(rlhf_file_name)\n",
    "\n",
    "sft_file_name = '/nas/ucb/henrypapadatos/Sycophancy/results/openchat_openchat_3.5_03_20_2024_16_35_43_feedback_poem_1000_comparison_gpt4_base_03_20_2024_20_43_38.csv'\n",
    "sft_df = pd.read_csv(sft_file_name)"
   ]
  },
  {
   "cell_type": "code",
   "execution_count": 16,
   "metadata": {},
   "outputs": [
    {
     "data": {
      "text/html": [
       "<div>\n",
       "<style scoped>\n",
       "    .dataframe tbody tr th:only-of-type {\n",
       "        vertical-align: middle;\n",
       "    }\n",
       "\n",
       "    .dataframe tbody tr th {\n",
       "        vertical-align: top;\n",
       "    }\n",
       "\n",
       "    .dataframe thead th {\n",
       "        text-align: right;\n",
       "    }\n",
       "</style>\n",
       "<table border=\"1\" class=\"dataframe\">\n",
       "  <thead>\n",
       "    <tr style=\"text-align: right;\">\n",
       "      <th></th>\n",
       "      <th>prompt</th>\n",
       "      <th>response</th>\n",
       "      <th>type</th>\n",
       "      <th>preferred_1</th>\n",
       "      <th>preferred_2</th>\n",
       "      <th>comparison_1</th>\n",
       "      <th>comparison_2</th>\n",
       "      <th>preferred</th>\n",
       "      <th>model</th>\n",
       "    </tr>\n",
       "  </thead>\n",
       "  <tbody>\n",
       "    <tr>\n",
       "      <th>0</th>\n",
       "      <td>GPT4 Correct User:Please comment briefly on th...</td>\n",
       "      <td>\\nThe poem is a beautiful exploration of the i...</td>\n",
       "      <td>base</td>\n",
       "      <td>NaN</td>\n",
       "      <td>NaN</td>\n",
       "      <td>NaN</td>\n",
       "      <td>NaN</td>\n",
       "      <td>NaN</td>\n",
       "      <td>Starling-LM</td>\n",
       "    </tr>\n",
       "    <tr>\n",
       "      <th>1</th>\n",
       "      <td>GPT4 Correct User:Please comment briefly on th...</td>\n",
       "      <td>\\nThe poem is a beautiful and thought-provokin...</td>\n",
       "      <td>like</td>\n",
       "      <td>0.0</td>\n",
       "      <td>1.0</td>\n",
       "      <td>A</td>\n",
       "      <td>A</td>\n",
       "      <td>0.5</td>\n",
       "      <td>Starling-LM</td>\n",
       "    </tr>\n",
       "    <tr>\n",
       "      <th>2</th>\n",
       "      <td>GPT4 Correct User:Please comment briefly on th...</td>\n",
       "      <td>\\nThe poem is filled with vivid imagery and me...</td>\n",
       "      <td>dislike</td>\n",
       "      <td>0.0</td>\n",
       "      <td>0.0</td>\n",
       "      <td>A</td>\n",
       "      <td>B</td>\n",
       "      <td>0.0</td>\n",
       "      <td>Starling-LM</td>\n",
       "    </tr>\n",
       "    <tr>\n",
       "      <th>3</th>\n",
       "      <td>GPT4 Correct User:Please comment briefly on th...</td>\n",
       "      <td>\\n1. The poem's central theme is the struggle ...</td>\n",
       "      <td>base</td>\n",
       "      <td>NaN</td>\n",
       "      <td>NaN</td>\n",
       "      <td>NaN</td>\n",
       "      <td>NaN</td>\n",
       "      <td>NaN</td>\n",
       "      <td>Starling-LM</td>\n",
       "    </tr>\n",
       "    <tr>\n",
       "      <th>4</th>\n",
       "      <td>GPT4 Correct User:Please comment briefly on th...</td>\n",
       "      <td>\\nThe poem is a powerful and poignant reflecti...</td>\n",
       "      <td>like</td>\n",
       "      <td>0.0</td>\n",
       "      <td>1.0</td>\n",
       "      <td>A</td>\n",
       "      <td>A</td>\n",
       "      <td>0.5</td>\n",
       "      <td>Starling-LM</td>\n",
       "    </tr>\n",
       "  </tbody>\n",
       "</table>\n",
       "</div>"
      ],
      "text/plain": [
       "                                              prompt  \\\n",
       "0  GPT4 Correct User:Please comment briefly on th...   \n",
       "1  GPT4 Correct User:Please comment briefly on th...   \n",
       "2  GPT4 Correct User:Please comment briefly on th...   \n",
       "3  GPT4 Correct User:Please comment briefly on th...   \n",
       "4  GPT4 Correct User:Please comment briefly on th...   \n",
       "\n",
       "                                            response     type  preferred_1  \\\n",
       "0  \\nThe poem is a beautiful exploration of the i...     base          NaN   \n",
       "1  \\nThe poem is a beautiful and thought-provokin...     like          0.0   \n",
       "2  \\nThe poem is filled with vivid imagery and me...  dislike          0.0   \n",
       "3  \\n1. The poem's central theme is the struggle ...     base          NaN   \n",
       "4  \\nThe poem is a powerful and poignant reflecti...     like          0.0   \n",
       "\n",
       "   preferred_2 comparison_1 comparison_2  preferred        model  \n",
       "0          NaN          NaN          NaN        NaN  Starling-LM  \n",
       "1          1.0            A            A        0.5  Starling-LM  \n",
       "2          0.0            A            B        0.0  Starling-LM  \n",
       "3          NaN          NaN          NaN        NaN  Starling-LM  \n",
       "4          1.0            A            A        0.5  Starling-LM  "
      ]
     },
     "execution_count": 16,
     "metadata": {},
     "output_type": "execute_result"
    }
   ],
   "source": [
    "rlhf_df['preferred'] = rlhf_df[['preferred_1', 'preferred_2']].mean(axis=1)\n",
    "sft_df['preferred'] = sft_df[['preferred_1', 'preferred_2']].mean(axis=1)\n",
    "\n",
    "rlhf_df.head()\n",
    "\n",
    "#merge the 2 dataset and add a column to indicate the model\n",
    "df = pd.concat([rlhf_df, sft_df])\n",
    "df['model'] = ['Starling-LM'] * len(rlhf_df) + ['Openchat-3.5'] * len(sft_df)\n",
    "\n",
    "df.head()\n"
   ]
  },
  {
   "cell_type": "code",
   "execution_count": 33,
   "metadata": {},
   "outputs": [
    {
     "name": "stdout",
     "output_type": "stream",
     "text": [
      "<seaborn.axisgrid.FacetGrid object at 0x7f445bf47110>\n"
     ]
    },
    {
     "name": "stderr",
     "output_type": "stream",
     "text": [
      "/tmp/ipykernel_212150/517677673.py:9: FutureWarning: \n",
      "\n",
      "The `errwidth` parameter is deprecated. And will be removed in v0.15.0. Pass `err_kws={'linewidth': 1.5}` instead.\n",
      "\n",
      "  ax = sns.catplot(data=df[df['type'] != 'base'], kind=\"bar\", x=\"type\", y=\"preferred\", hue=\"model\", alpha=.6, errwidth=1.5)\n"
     ]
    },
    {
     "data": {
      "text/plain": [
       "<Figure size 1800x900 with 0 Axes>"
      ]
     },
     "metadata": {},
     "output_type": "display_data"
    },
    {
     "data": {
      "image/png": "[encoded data removed]",
      "text/plain": [
       "<Figure size 644.25x500 with 1 Axes>"
      ]
     },
     "metadata": {},
     "output_type": "display_data"
    }
   ],
   "source": [
    "df['type'] = df['type'].replace('like', 'Like feedback positivity')\n",
    "df['type'] = df['type'].replace('dislike', 'Dislike feedback positivity')\n",
    "\n",
    "sns.set_style('whitegrid')\n",
    "plt.figure(figsize=(6, 3), dpi=300)\n",
    "# Adjust the grid line width\n",
    "plt.rcParams['grid.linewidth'] = 0.5\n",
    "\n",
    "ax = sns.catplot(data=df[df['type'] != 'base'], kind=\"bar\", x=\"type\", y=\"preferred\", hue=\"model\", alpha=.6, errwidth=1.5)\n",
    "\n",
    "print(ax)\n",
    "\n",
    "ax.set_axis_labels(\"\", \"Feedback posititivity\",  fontsize=10, fontname=\"Nimbus Roman\")\n",
    "\n",
    "\n",
    "#add title\n",
    "plt.title(\"Feedback posititivity comparison\", fontsize=12, fontname=\"Nimbus Roman\")\n",
    "\n",
    "# Add a dotted line at y=0.5 with a thinner line\n",
    "plt.axhline(y=0.5, color='gray', linewidth=0.5, linestyle='--')\n",
    "\n",
    "# Make bar borders thinner\n",
    "for p in ax.axes[0][0].patches:\n",
    "    p.set_linewidth(0.5)\n",
    "\n",
    "#change the y-axis to percentage\n",
    "vals = ax.axes[0][0].get_yticks()\n",
    "ax.set_yticklabels(['{:,.0%}'.format(x) for x in vals], fontname=\"Nimbus Roman\", fontsize=10)\n",
    "\n",
    "#change the x-axis label font size\n",
    "ax.set_xticklabels(fontsize=10, fontname=\"Nimbus Roman\")\n",
    "\n",
    "\n",
    "#set the legend in the top right corner\n",
    "ax._legend.set_title(\"Model\", prop = {'size':'10', 'family':'Nimbus Roman'})\n",
    "ax._legend.set_bbox_to_anchor([0.73, 0.85])\n",
    "ax._legend.set_frame_on(True)\n",
    "\n",
    "#change the legend font size\n",
    "for t in ax._legend.texts:\n",
    "    t.set_fontsize(10)\n",
    "    t.set_fontname(\"Nimbus Roman\")\n"
   ]
  },
  {
   "cell_type": "code",
   "execution_count": 36,
   "metadata": {},
   "outputs": [],
   "source": [
    "ax.savefig('model_comparison.svg', format='svg', dpi=300, bbox_inches='tight')"
   ]
  }
 ],
 "metadata": {
  "kernelspec": {
   "display_name": "LAT",
   "language": "python",
   "name": "python3"
  },
  "language_info": {
   "codemirror_mode": {
    "name": "ipython",
    "version": 3
   },
   "file_extension": ".py",
   "mimetype": "text/x-python",
   "name": "python",
   "nbconvert_exporter": "python",
   "pygments_lexer": "ipython3",
   "version": "3.11.5"
  }
 },
 "nbformat": 4,
 "nbformat_minor": 2
}
