{
 "cells": [
  {
   "cell_type": "code",
   "execution_count": 2,
   "metadata": {},
   "outputs": [],
   "source": [
    "from anthropic import Anthropic, HUMAN_PROMPT, AI_PROMPT\n",
    "import os\n",
    "\n",
    "anthropic = Anthropic(\n",
    "    api_key= os.environ[\"ANTHROPIC_API_KEY\"],\n",
    ")"
   ]
  },
  {
   "cell_type": "code",
   "execution_count": 5,
   "metadata": {},
   "outputs": [
    {
     "name": "stdout",
     "output_type": "stream",
     "text": [
      "\n",
      "\n",
      "Human: What are the parameters I can pass to the Claude API?\n",
      "\n",
      "Assistant:\n",
      " I do not have access to details about Claude's API or functionality. As an AI assistant created by Anthropic, I have a different architecture and capabilities focused on being helpful, harmless, and honest. I recommend checking Anthropic's website or documentation for specifics on what Claude can do.\n"
     ]
    }
   ],
   "source": [
    "prompt = f\"{HUMAN_PROMPT} What are the parameters I can pass to the Claude API?{AI_PROMPT}\"\n",
    "\n",
    "print(prompt)\n",
    "\n",
    "completion = anthropic.completions.create(\n",
    "    model=\"claude-2.1\",\n",
    "    max_tokens_to_sample=300,\n",
    "    prompt=prompt,\n",
    ")\n",
    "print(completion.completion)"
   ]
  }
 ],
 "metadata": {
  "kernelspec": {
   "display_name": "LAT",
   "language": "python",
   "name": "python3"
  },
  "language_info": {
   "codemirror_mode": {
    "name": "ipython",
    "version": 3
   },
   "file_extension": ".py",
   "mimetype": "text/x-python",
   "name": "python",
   "nbconvert_exporter": "python",
   "pygments_lexer": "ipython3",
   "version": "3.11.5"
  }
 },
 "nbformat": 4,
 "nbformat_minor": 2
}
