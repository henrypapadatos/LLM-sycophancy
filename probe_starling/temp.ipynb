{
 "cells": [
  {
   "cell_type": "code",
   "execution_count": 1,
   "metadata": {},
   "outputs": [],
   "source": [
    "import os \n",
    "import pandas as pd\n",
    "import random"
   ]
  },
  {
   "cell_type": "code",
   "execution_count": 6,
   "metadata": {},
   "outputs": [
    {
     "name": "stdout",
     "output_type": "stream",
     "text": [
      "Initial shape:  92\n",
      "Post sampling shape:  92\n"
     ]
    }
   ],
   "source": [
    "data_folder = \"../datasets\"\n",
    "dataset_file = \"open_ended_feedback_activations.pkl\"\n",
    "# dataset_file = \"open_ended_activations.pkl\"\n",
    "layer = 11\n",
    "size = 92 #106\n",
    "split = 0.8\n",
    "verbose = True\n",
    "\n",
    "df = pd.read_pickle(os.path.join(data_folder, dataset_file))\n",
    "\n",
    "# remove the rows with nan values\n",
    "df = df.dropna()\n",
    "if verbose:\n",
    "    print('Initial shape: ', df.shape[0] *2)\n",
    "\n",
    "# sample the dataset to have the desired size\n",
    "df = df.sample(n=size//2, random_state=42)\n",
    "if verbose:\n",
    "    print('Post sampling shape: ', df.shape[0] *2)\n",
    "\n",
    "# take the activations of the right layer and put them on the right device\n",
    "# take the mean of the activations along all the tokens\n",
    "df['activations_sycophantic'] = df['activations_sycophantic'].apply(\n",
    "    lambda x: x[layer].mean(0))\n",
    "df['activations_not_sycophantic'] = df['activations_not_sycophantic'].apply(\n",
    "    lambda x: x[layer].mean(0))\n",
    "\n",
    "activations_sycophantic = df['activations_sycophantic'].tolist()\n",
    "activations_not_sycophantic = df['activations_not_sycophantic'].tolist()\n",
    "\n",
    "#labels_sycophantic will be 1 and labels_not_sycophantic will be 0\n",
    "labels_sycophantic = [1]*len(activations_sycophantic)\n",
    "labels_not_sycophantic = [0]*len(activations_not_sycophantic)\n",
    "\n",
    "activations = activations_sycophantic + activations_not_sycophantic\n",
    "labels = labels_sycophantic + labels_not_sycophantic\n",
    "\n",
    "#shuffle the dataset\n",
    "combined = list(zip(activations, labels))\n",
    "random.shuffle(combined)\n",
    "activations, labels = zip(*combined)\n",
    "activations = list(activations)\n",
    "labels = list(labels)\n",
    "\n",
    "# split the dataset into train and test\n",
    "inputs_train = activations[:int(split*size)]\n",
    "labels_train = labels[:int(split*size)]\n",
    "inputs_test = activations[int(split*size):]\n",
    "labels_test = labels[int(split*size):]"
   ]
  },
  {
   "cell_type": "code",
   "execution_count": 7,
   "metadata": {},
   "outputs": [
    {
     "name": "stdout",
     "output_type": "stream",
     "text": [
      "73 19\n",
      "73 19\n",
      "torch.Size([4096])\n",
      "torch.Size([4096])\n",
      "73\n",
      "19\n",
      "[1, 0, 0, 0, 1, 1, 0, 1, 1, 0, 0, 1, 1, 0, 1, 0, 0, 0, 0, 0, 1, 0, 0, 1, 0, 1, 1, 0, 0, 0, 0, 0, 1, 1, 1, 0, 0, 1, 1, 0, 1, 0, 1, 1, 0, 1, 1, 0, 1, 0, 0, 1, 0, 1, 1, 1, 1, 0, 0, 1, 0, 0, 0, 1, 1, 0, 1, 0, 0, 1, 1, 1, 1]\n"
     ]
    }
   ],
   "source": [
    "print(len(inputs_train), len(inputs_test))\n",
    "print(len(labels_train), len(labels_test))\n",
    "print(inputs_train[0].shape)\n",
    "print(inputs_test[0].shape)\n",
    "\n",
    "print(labels_train)"
   ]
  }
 ],
 "metadata": {
  "kernelspec": {
   "display_name": "LAT",
   "language": "python",
   "name": "python3"
  },
  "language_info": {
   "codemirror_mode": {
    "name": "ipython",
    "version": 3
   },
   "file_extension": ".py",
   "mimetype": "text/x-python",
   "name": "python",
   "nbconvert_exporter": "python",
   "pygments_lexer": "ipython3",
   "version": "3.11.5"
  }
 },
 "nbformat": 4,
 "nbformat_minor": 2
}
