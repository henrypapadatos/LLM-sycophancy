{
 "cells": [
  {
   "cell_type": "code",
   "execution_count": 2,
   "metadata": {},
   "outputs": [],
   "source": [
    "#%%\n",
    "import os\n",
    "os.environ['CUDA_VISIBLE_DEVICES'] = '3'\n",
    "\n",
    "import pandas as pd\n",
    "import torch\n",
    "import matplotlib.pyplot as plt\n",
    "import torch.nn as nn\n",
    "from transformers import AutoModelForCausalLM, AutoTokenizer\n",
    "from huggingface_hub import snapshot_download\n",
    "from tqdm import tqdm\n",
    "import seaborn as sns"
   ]
  },
  {
   "cell_type": "code",
   "execution_count": 3,
   "metadata": {},
   "outputs": [
    {
     "data": {
      "application/vnd.jupyter.widget-view+json": {
       "model_id": "1b2445f5651b4627968dc06496b3ad88",
       "version_major": 2,
       "version_minor": 0
      },
      "text/plain": [
       "Loading checkpoint shards:   0%|          | 0/2 [00:00<?, ?it/s]"
      ]
     },
     "metadata": {},
     "output_type": "display_data"
    },
    {
     "data": {
      "application/vnd.jupyter.widget-view+json": {
       "model_id": "70b21e2c2f7345c9b7e1e9c597919847",
       "version_major": 2,
       "version_minor": 0
      },
      "text/plain": [
       "Fetching 15 files:   0%|          | 0/15 [00:00<?, ?it/s]"
      ]
     },
     "metadata": {},
     "output_type": "display_data"
    }
   ],
   "source": [
    "def get_reward_model():\n",
    "\n",
    "    class GPTRewardModel(nn.Module):\n",
    "        def __init__(self, model_path):\n",
    "            super().__init__()\n",
    "            model = AutoModelForCausalLM.from_pretrained(model_path, cache_dir='/scratch/henrypapadatos', device_map=\"auto\")\n",
    "            self.config = model.config\n",
    "            self.config.n_embd = self.config.hidden_size if hasattr(self.config, \"hidden_size\") else self.config.n_embd\n",
    "            self.config.output_hidden_states=True\n",
    "            self.model = model\n",
    "            self.transformer = model.model\n",
    "            self.v_head = nn.Linear(self.config.n_embd, 1, bias=False).to(self.model.device)\n",
    "            self.tokenizer = AutoTokenizer.from_pretrained(model_path)\n",
    "            self.tokenizer.pad_token = self.tokenizer.unk_token\n",
    "            self.PAD_ID = self.tokenizer(self.tokenizer.pad_token)[\"input_ids\"][0]\n",
    "\n",
    "        def get_device(self):\n",
    "            return self.model.device\n",
    "\n",
    "        def forward(\n",
    "            self,\n",
    "            input_ids=None,\n",
    "            past_key_values=None,\n",
    "            attention_mask=None,\n",
    "            position_ids=None,\n",
    "        ):\n",
    "            \"\"\"\n",
    "            input_ids, attention_mask: torch.Size([bs, seq_len])\n",
    "            return: scores: List[bs]\n",
    "            \"\"\"\n",
    "            bs = input_ids.shape[0]\n",
    "            transformer_outputs = self.transformer(\n",
    "                input_ids,\n",
    "                past_key_values=past_key_values,\n",
    "                attention_mask=attention_mask,\n",
    "                position_ids=position_ids,\n",
    "            )\n",
    "            hidden_states = transformer_outputs[0]\n",
    "            scores = []\n",
    "            rewards = self.v_head(hidden_states).squeeze(-1)\n",
    "            for i in range(bs):\n",
    "                c_inds = (input_ids[i] == self.PAD_ID).nonzero()\n",
    "                c_ind = c_inds[0].item() if len(c_inds) > 0 else input_ids.shape[1]\n",
    "                scores.append(rewards[i, c_ind - 1])\n",
    "            return scores\n",
    "        \n",
    "    ## Load the model and tokenizer\n",
    "    reward_model = GPTRewardModel(\"meta-llama/Llama-2-7b-chat-hf\")\n",
    "    reward_tokenizer = reward_model.tokenizer\n",
    "    reward_tokenizer.truncation_side = \"left\"\n",
    "\n",
    "    directory = snapshot_download(\"berkeley-nest/Starling-RM-7B-alpha\", cache_dir='/scratch/henrypapadatos')\n",
    "    for fpath in os.listdir(directory):\n",
    "        if fpath.endswith(\".pt\") or fpath.endswith(\"model.bin\"):\n",
    "            checkpoint = os.path.join(directory, fpath)\n",
    "            break\n",
    "\n",
    "    # Load the model on the GPU  \n",
    "    # reward_model.load_state_dict(torch.load(checkpoint, map_location=reward_device), strict=False)\n",
    "    reward_model.load_state_dict(torch.load(checkpoint), strict=False)\n",
    "    reward_model.eval().requires_grad_(False)\n",
    "\n",
    "    return reward_model, reward_tokenizer\n",
    "\n",
    "reward_model, reward_tokenizer = get_reward_model()"
   ]
  },
  {
   "cell_type": "code",
   "execution_count": 4,
   "metadata": {},
   "outputs": [],
   "source": [
    "def make_prompt(question: str, answer:str):\n",
    "    question = question.replace('Answer:', '')\n",
    "    prompt = '[INST] ' + question + '\\n[/INST] '+ answer\n",
    "    return prompt"
   ]
  },
  {
   "cell_type": "code",
   "execution_count": 5,
   "metadata": {},
   "outputs": [],
   "source": [
    "def get_activation(prompt, reward_model, reward_tokenizer):\n",
    "\n",
    "    reward_device = reward_model.get_device()\n",
    "    \n",
    "    with torch.no_grad():\n",
    "        #tokenize the input text\n",
    "        encodings_dict = reward_tokenizer(\n",
    "            prompt,\n",
    "            truncation=True,\n",
    "            max_length=2048,\n",
    "            padding=\"max_length\",\n",
    "            return_tensors=\"pt\",\n",
    "        ).to(reward_device)\n",
    "\n",
    "        tokenized_prompt = reward_tokenizer.convert_ids_to_tokens(encodings_dict['input_ids'][0])\n",
    "\n",
    "        #We will keep the tokens corresponding to the answer given by the assistant only\n",
    "        #to isolate it: start is the second occurence of the 'INST' token +2 (because we want to start reading after the ']' token.)\n",
    "        #end is the first occurence of the '<unk>' token\n",
    "        inst_token_index = [i for i, x in enumerate(tokenized_prompt) if x == 'INST'][1]\n",
    "        start_token = inst_token_index + 2\n",
    "        end_token = tokenized_prompt.index('<unk>')\n",
    "\n",
    "        # print(tokenized_prompt[start_token:end_token])\n",
    "\n",
    "        #get the model outputs\n",
    "        output = reward_model.transformer(input_ids=encodings_dict['input_ids'], attention_mask=encodings_dict['attention_mask'])\n",
    "\n",
    "        #taken the activations of the right layer and the right tokens\n",
    "        activations = tuple([activation[0,start_token:end_token,:].cpu() for activation in output.hidden_states])\n",
    "\n",
    "        #return the activations\n",
    "        return activations"
   ]
  },
  {
   "cell_type": "code",
   "execution_count": 20,
   "metadata": {},
   "outputs": [
    {
     "name": "stderr",
     "output_type": "stream",
     "text": [
      "100%|██████████| 53/53 [03:13<00:00,  3.64s/it]\n"
     ]
    }
   ],
   "source": [
    "#get the test dataset\n",
    "data_file = '../../datasets/Open-ended_sycophancy_dataset.csv'\n",
    "df = pd.read_csv(data_file)\n",
    "\n",
    "#create a new column 'sycophancy_score' in the dataframe\n",
    "df['activations_sycophantic'] = None\n",
    "df['activations_not_sycophantic'] = None\n",
    "\n",
    "#iterate over the dataframe and get the activations for each row\n",
    "for index, row in tqdm(df.iterrows(), total=df.shape[0]):\n",
    "    question = row['prompt']\n",
    "    \n",
    "    answer = row['sycophantic']\n",
    "    prompt = make_prompt(question, answer)\n",
    "    activations = get_activation(prompt, reward_model, reward_tokenizer)\n",
    "    df.at[index, 'activations_sycophantic'] = activations\n",
    "\n",
    "    answer = row['not_sycophantic']\n",
    "    prompt = make_prompt(question, answer)\n",
    "    activations = get_activation(prompt, reward_model, reward_tokenizer)\n",
    "    df.at[index, 'activations_not_sycophantic'] = activations\n",
    "\n",
    "\n",
    "#save the dataframe to pkl format\n",
    "df.to_pickle('../../datasets/opend_ended_activations.pkl')\n",
    "\n",
    "# df.head()"
   ]
  },
  {
   "cell_type": "code",
   "execution_count": 18,
   "metadata": {},
   "outputs": [
    {
     "name": "stdout",
     "output_type": "stream",
     "text": [
      "torch.Size([75, 4096])\n",
      "torch.Size([127, 4096])\n",
      "33\n",
      "(4, 6)\n",
      "<class 'tuple'>\n",
      "tensor([[ 0.0219, -0.0034, -0.0042,  ...,  0.0093, -0.0047, -0.0139],\n",
      "        [ 0.0008, -0.0028, -0.0063,  ..., -0.0005, -0.0031,  0.0039],\n",
      "        [ 0.0089,  0.0001, -0.0177,  ...,  0.0068, -0.0027, -0.0063],\n",
      "        ...,\n",
      "        [-0.0112,  0.0099,  0.0010,  ..., -0.0189,  0.0045,  0.0008],\n",
      "        [ 0.0073, -0.0116, -0.0002,  ...,  0.0123, -0.0277,  0.0277],\n",
      "        [-0.0011,  0.0012, -0.0062,  ...,  0.0020, -0.0004, -0.0048]])\n"
     ]
    }
   ],
   "source": [
    "# print(df.iloc[0])\n",
    "print(df.iloc[0]['activations_sycophantic'][0].shape)\n",
    "print(df.iloc[0]['activations_not_sycophantic'][0].shape)\n",
    "print(len(df.iloc[0]['activations_sycophantic']))\n",
    "\n",
    "#remove the rows with missing activations\n",
    "df = df[df['activations_sycophantic'].notna()]\n",
    "\n",
    "print(df.shape)\n",
    "print(type(df.iloc[0]['activations_sycophantic']))\n",
    "print((df.iloc[0]['activations_sycophantic'][0]))\n",
    "\n"
   ]
  }
 ],
 "metadata": {
  "kernelspec": {
   "display_name": "LAT",
   "language": "python",
   "name": "python3"
  },
  "language_info": {
   "codemirror_mode": {
    "name": "ipython",
    "version": 3
   },
   "file_extension": ".py",
   "mimetype": "text/x-python",
   "name": "python",
   "nbconvert_exporter": "python",
   "pygments_lexer": "ipython3",
   "version": "3.11.5"
  }
 },
 "nbformat": 4,
 "nbformat_minor": 2
}
