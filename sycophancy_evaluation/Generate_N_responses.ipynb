{
 "cells": [
  {
   "cell_type": "code",
   "execution_count": 7,
   "metadata": {},
   "outputs": [
    {
     "name": "stdout",
     "output_type": "stream",
     "text": [
      "NVIDIA RTX A6000\n"
     ]
    }
   ],
   "source": [
    "import os\n",
    "AVAILABLE_GPUS = '1'\n",
    "os.environ['CUDA_VISIBLE_DEVICES'] = AVAILABLE_GPUS\n",
    "\n",
    "import torch\n",
    "import matplotlib.pyplot as plt\n",
    "from tqdm import tqdm\n",
    "from transformers import AutoTokenizer, AutoModelForCausalLM, AutoModelForSequenceClassification, GPTNeoXForCausalLM\n",
    "\n",
    "for i in range(torch.cuda.device_count()):\n",
    "   print(torch.cuda.get_device_properties(i).name)"
   ]
  },
  {
   "cell_type": "code",
   "execution_count": 8,
   "metadata": {},
   "outputs": [
    {
     "data": {
      "application/vnd.jupyter.widget-view+json": {
       "model_id": "8efb8bf44c0b4a69b8452b8980ec9d2e",
       "version_major": 2,
       "version_minor": 0
      },
      "text/plain": [
       "Loading checkpoint shards:   0%|          | 0/2 [00:00<?, ?it/s]"
      ]
     },
     "metadata": {},
     "output_type": "display_data"
    },
    {
     "name": "stderr",
     "output_type": "stream",
     "text": [
      "/nas/ucb/henrypapadatos/Miniconda3/envs/LAT/lib/python3.11/site-packages/transformers/generation/configuration_utils.py:381: UserWarning: `do_sample` is set to `False`. However, `temperature` is set to `0.5` -- this flag is only used in sample-based generation modes. You should set `do_sample=True` or unset `temperature`. This was detected when initializing the generation config instance, which means the corresponding file may hold incorrect parameterization and should be fixed.\n",
      "  warnings.warn(\n",
      "Special tokens have been added in the vocabulary, make sure the associated word embeddings are fine-tuned or trained.\n"
     ]
    },
    {
     "name": "stdout",
     "output_type": "stream",
     "text": [
      "cuda:0\n"
     ]
    }
   ],
   "source": [
    "# model_name_or_path = \"OpenAssistant/pythia-12b-sft-v8-rlhf-2k-steps\" #23GB\n",
    "# model_name_or_path = \"OpenAssistant/pythia-12b-sft-v8-2.5k-steps\" #23GB\n",
    "# model_name_or_path = \"berkeley-nest/Starling-LM-7B-alpha\" #28GB\n",
    "model_name_or_path = 'openchat/openchat_3.5'\n",
    "\n",
    "\n",
    "if \"OpenAssistant\" in model_name_or_path:\n",
    "    model = GPTNeoXForCausalLM.from_pretrained(model_name_or_path, torch_dtype=torch.float16, device_map='auto')\n",
    "    tokenizer = AutoTokenizer.from_pretrained(model_name_or_path, padding_side=\"left\", legacy=False)\n",
    "else:\n",
    "    model = AutoModelForCausalLM.from_pretrained(model_name_or_path, torch_dtype=torch.float16, device_map=\"auto\", cache_dir='/scratch/henrypapadatos')\n",
    "    tokenizer = AutoTokenizer.from_pretrained(model_name_or_path, cache_dir='/scratch/henrypapadatos')\n",
    "    tokenizer.pad_token_id=tokenizer.eos_token_id\n",
    "print(model.device)"
   ]
  },
  {
   "cell_type": "code",
   "execution_count": 13,
   "metadata": {},
   "outputs": [
    {
     "name": "stdout",
     "output_type": "stream",
     "text": [
      "Number of samples: 180\n"
     ]
    }
   ],
   "source": [
    "import pandas as pd\n",
    "import json\n",
    "\n",
    "#only cut_off/5 different poems will be used\n",
    "cut_off = 300\n",
    "N_samples = 32\n",
    "temperature = 0.8\n",
    "\n",
    "def load_from_jsonl(file_name: str, cut_off: int) -> list[dict]:\n",
    "    def load_json_line(line: str, i: int, file_name: str):\n",
    "        try:\n",
    "            return json.loads(line)\n",
    "        except:\n",
    "            raise ValueError(f\"Error in line {i+1}\\n{line} of {file_name}\")\n",
    "    with open(file_name, \"r\") as f:\n",
    "        #only use the base, the like and the dislike prefix. And stop at cutof lines\n",
    "        data = [load_json_line(line, i, file_name) for i, line in enumerate(f) if i<cut_off and i%5<3]\n",
    "    return data\n",
    "\n",
    "def get_prompt(d):\n",
    "    prompt = d['prompt'][0]['content']\n",
    "    if \"OpenAssistant\" in model_name_or_path:\n",
    "        prompt = '<|prompter|>' + prompt + '<|endoftext|>\\n<|assistant|>Here are my thoughts on the poem:\\n'\n",
    "    elif \"Starling\" or 'openchat' in model_name_or_path:\n",
    "        prompt = 'GPT4 Correct User:' + prompt + '<|end_of_turn|>\\nGPT4 Correct Assistant: Here are my thoughts on the poem:\\n'\n",
    "    return prompt  \n",
    "\n",
    "dataset_filename: str = \"feedback_poem.jsonl\"\n",
    "dataset_path = os.path.join(\"datasets\", dataset_filename)\n",
    "dataset = load_from_jsonl(dataset_path, cut_off)\n",
    "print(\"Number of samples:\",len(dataset))\n",
    "prompts= [get_prompt(d) for d in dataset]"
   ]
  },
  {
   "cell_type": "code",
   "execution_count": 14,
   "metadata": {},
   "outputs": [],
   "source": [
    "def remove_the_excess_oes(prompt_array):\n",
    "    array = []\n",
    "    if 'OpenAssistant' in model_name_or_path:\n",
    "        for el in prompt_array:\n",
    "            while(el.count('<|endoftext|>')>2):\n",
    "                el = el.rsplit('<|endoftext|>',1)[0]\n",
    "            array.append(el)\n",
    "    elif 'Starling' or 'openchat' in model_name_or_path:\n",
    "        for el in prompt_array:\n",
    "            while(el.count('<|end_of_turn|>')>2):\n",
    "                el = el.rsplit('<|end_of_turn|>',1)[0]\n",
    "            array.append(el)\n",
    "    return array"
   ]
  },
  {
   "cell_type": "code",
   "execution_count": 15,
   "metadata": {},
   "outputs": [
    {
     "name": "stderr",
     "output_type": "stream",
     "text": [
      "Poems: 100%|██████████| 180/180 [2:49:44<00:00, 56.58s/it]  \n"
     ]
    }
   ],
   "source": [
    "batch_size = 8\n",
    "\n",
    "output_array = []\n",
    "#iteration over prompts with tqdm\n",
    "for prompt in tqdm(prompts, desc= 'Poems', position=0):\n",
    "    prompt_copy = [prompt]*N_samples\n",
    "    temp_output_array = []\n",
    "    for i in range(0, len(prompt_copy), batch_size):\n",
    "        model_inputs = tokenizer(prompt_copy[i:i+batch_size], return_tensors=\"pt\", padding=True).to(\"cuda\")\n",
    "        try: \n",
    "            generated_ids = model.generate(**model_inputs, max_length=1200, pad_token_id=tokenizer.eos_token_id, eos_token_id= tokenizer.eos_token_id, do_sample=True, temperature=temperature)\n",
    "        except:\n",
    "            print(\"Cuda error\")\n",
    "            break\n",
    "        output = tokenizer.batch_decode(generated_ids)\n",
    "        temp_output_array.append(output)\n",
    "    #flatten temp_output_array\n",
    "    temp_output_array = [item for sublist in temp_output_array for item in sublist]\n",
    "    temp_output_array = remove_the_excess_oes(temp_output_array)\n",
    "    \n",
    "    output_array.append(temp_output_array)\n",
    "    \n",
    "    # for i in range(5):\n",
    "    #     #print(prompts[i])\n",
    "    #     print(output[i].split('Here are my thoughts on the poem:')[1])\n",
    "    #     print(\"#############################################\")"
   ]
  },
  {
   "cell_type": "code",
   "execution_count": 16,
   "metadata": {},
   "outputs": [
    {
     "name": "stdout",
     "output_type": "stream",
     "text": [
      "file name: Bo32_openchat_openchat_3.5_11_28_2023_15_18_45_feedback_poem_300.csv\n"
     ]
    },
    {
     "data": {
      "text/html": [
       "<div>\n",
       "<style scoped>\n",
       "    .dataframe tbody tr th:only-of-type {\n",
       "        vertical-align: middle;\n",
       "    }\n",
       "\n",
       "    .dataframe tbody tr th {\n",
       "        vertical-align: top;\n",
       "    }\n",
       "\n",
       "    .dataframe thead th {\n",
       "        text-align: right;\n",
       "    }\n",
       "</style>\n",
       "<table border=\"1\" class=\"dataframe\">\n",
       "  <thead>\n",
       "    <tr style=\"text-align: right;\">\n",
       "      <th></th>\n",
       "      <th>prompt</th>\n",
       "      <th>N_response</th>\n",
       "      <th>type</th>\n",
       "    </tr>\n",
       "  </thead>\n",
       "  <tbody>\n",
       "    <tr>\n",
       "      <th>0</th>\n",
       "      <td>GPT4 Correct User:Please comment briefly on th...</td>\n",
       "      <td>[&lt;s&gt; GPT4 Correct User:Please comment briefly ...</td>\n",
       "      <td>base</td>\n",
       "    </tr>\n",
       "    <tr>\n",
       "      <th>1</th>\n",
       "      <td>GPT4 Correct User:Please comment briefly on th...</td>\n",
       "      <td>[&lt;s&gt; GPT4 Correct User:Please comment briefly ...</td>\n",
       "      <td>like</td>\n",
       "    </tr>\n",
       "    <tr>\n",
       "      <th>2</th>\n",
       "      <td>GPT4 Correct User:Please comment briefly on th...</td>\n",
       "      <td>[&lt;s&gt; GPT4 Correct User:Please comment briefly ...</td>\n",
       "      <td>dislike</td>\n",
       "    </tr>\n",
       "    <tr>\n",
       "      <th>3</th>\n",
       "      <td>GPT4 Correct User:Please comment briefly on th...</td>\n",
       "      <td>[&lt;s&gt; GPT4 Correct User:Please comment briefly ...</td>\n",
       "      <td>base</td>\n",
       "    </tr>\n",
       "    <tr>\n",
       "      <th>4</th>\n",
       "      <td>GPT4 Correct User:Please comment briefly on th...</td>\n",
       "      <td>[&lt;s&gt; GPT4 Correct User:Please comment briefly ...</td>\n",
       "      <td>like</td>\n",
       "    </tr>\n",
       "  </tbody>\n",
       "</table>\n",
       "</div>"
      ],
      "text/plain": [
       "                                              prompt  \\\n",
       "0  GPT4 Correct User:Please comment briefly on th...   \n",
       "1  GPT4 Correct User:Please comment briefly on th...   \n",
       "2  GPT4 Correct User:Please comment briefly on th...   \n",
       "3  GPT4 Correct User:Please comment briefly on th...   \n",
       "4  GPT4 Correct User:Please comment briefly on th...   \n",
       "\n",
       "                                          N_response     type  \n",
       "0  [<s> GPT4 Correct User:Please comment briefly ...     base  \n",
       "1  [<s> GPT4 Correct User:Please comment briefly ...     like  \n",
       "2  [<s> GPT4 Correct User:Please comment briefly ...  dislike  \n",
       "3  [<s> GPT4 Correct User:Please comment briefly ...     base  \n",
       "4  [<s> GPT4 Correct User:Please comment briefly ...     like  "
      ]
     },
     "execution_count": 16,
     "metadata": {},
     "output_type": "execute_result"
    }
   ],
   "source": [
    "import datetime\n",
    "now = datetime.datetime.now()\n",
    "\n",
    "df = pd.DataFrame({'prompt': prompts, 'N_response': output_array})\n",
    "\n",
    "df['type'] = df.index.map(lambda x: 'base' if x%3 == 0 else 'like' if x%3 == 1 else 'dislike')\n",
    "\n",
    "#create a file name with current date and time\n",
    "date_time = now.strftime(\"%m_%d_%Y_%H_%M_%S\")\n",
    "file_name = (\"Bo\"+ str(N_samples) +\"_\" + model_name_or_path + \"_\" + date_time + \"_\" + dataset_filename.split(\".\")[0] + \"_\" + str(cut_off) + \".csv\").replace(\"/\", \"_\")\n",
    "file_path = \"results/\" + file_name\n",
    "print(\"file name:\", file_name)\n",
    "\n",
    "#save dataframe as csv\n",
    "df.to_csv(file_path, index=False)\n",
    "\n",
    "df.head()"
   ]
  }
 ],
 "metadata": {
  "kernelspec": {
   "display_name": "LAT",
   "language": "python",
   "name": "python3"
  },
  "language_info": {
   "codemirror_mode": {
    "name": "ipython",
    "version": 3
   },
   "file_extension": ".py",
   "mimetype": "text/x-python",
   "name": "python",
   "nbconvert_exporter": "python",
   "pygments_lexer": "ipython3",
   "version": "3.11.5"
  }
 },
 "nbformat": 4,
 "nbformat_minor": 2
}
