{
 "cells": [
  {
   "cell_type": "code",
   "execution_count": 1,
   "metadata": {},
   "outputs": [
    {
     "name": "stdout",
     "output_type": "stream",
     "text": [
      "NVIDIA RTX A6000\n"
     ]
    }
   ],
   "source": [
    "import os\n",
    "os.environ['CUDA_VISIBLE_DEVICES'] = '6'\n",
    "import torch\n",
    "from tqdm import tqdm\n",
    "from transformers import AutoTokenizer, AutoModelForCausalLM\n",
    "from tqdm import tqdm\n",
    "import numpy as np\n",
    "import matplotlib.pyplot as plt\n",
    "\n",
    "for i in range(torch.cuda.device_count()):\n",
    "   print(torch.cuda.get_device_properties(i).name)\n",
    "cuda = torch.device('cuda')\n",
    "b1 = torch.tensor([1., 2.]).to(device=cuda)"
   ]
  },
  {
   "cell_type": "code",
   "execution_count": 2,
   "metadata": {},
   "outputs": [
    {
     "name": "stdout",
     "output_type": "stream",
     "text": [
      "Loading model...\n"
     ]
    },
    {
     "data": {
      "application/vnd.jupyter.widget-view+json": {
       "model_id": "3a18a0d4d42348cb8401b187ba13b73c",
       "version_major": 2,
       "version_minor": 0
      },
      "text/plain": [
       "Loading checkpoint shards:   0%|          | 0/2 [00:00<?, ?it/s]"
      ]
     },
     "metadata": {},
     "output_type": "display_data"
    }
   ],
   "source": [
    "model_name_or_path = 'meta-llama/Llama-2-7b-chat-hf'\n",
    "\n",
    "print('Loading model...')\n",
    "#load the model in 16 bit precision\n",
    "model = AutoModelForCausalLM.from_pretrained(model_name_or_path, device_map=\"auto\", cache_dir='/scratch/henrypapadatos', torch_dtype=torch.float16)\n",
    "\n",
    "print(model.device)\n",
    "\n",
    "print('Loading tokenizer...')\n",
    "tokenizer = AutoTokenizer.from_pretrained(model_name_or_path, cache_dir='/scratch/henrypapadatos', padding_side=\"left\")\n",
    "tokenizer.padding_side = \"left\"\n",
    "tokenizer.pad_token = tokenizer.unk_token"
   ]
  },
  {
   "cell_type": "code",
   "execution_count": 3,
   "metadata": {},
   "outputs": [
    {
     "name": "stdout",
     "output_type": "stream",
     "text": [
      "(8530, 2)\n",
      "(1066, 2)\n",
      "(1066, 2)\n"
     ]
    },
    {
     "data": {
      "text/html": [
       "<div>\n",
       "<style scoped>\n",
       "    .dataframe tbody tr th:only-of-type {\n",
       "        vertical-align: middle;\n",
       "    }\n",
       "\n",
       "    .dataframe tbody tr th {\n",
       "        vertical-align: top;\n",
       "    }\n",
       "\n",
       "    .dataframe thead th {\n",
       "        text-align: right;\n",
       "    }\n",
       "</style>\n",
       "<table border=\"1\" class=\"dataframe\">\n",
       "  <thead>\n",
       "    <tr style=\"text-align: right;\">\n",
       "      <th></th>\n",
       "      <th>text</th>\n",
       "      <th>label</th>\n",
       "    </tr>\n",
       "  </thead>\n",
       "  <tbody>\n",
       "    <tr>\n",
       "      <th>0</th>\n",
       "      <td>the rock is destined to be the 21st century's ...</td>\n",
       "      <td>1</td>\n",
       "    </tr>\n",
       "    <tr>\n",
       "      <th>1</th>\n",
       "      <td>the gorgeously elaborate continuation of \" the...</td>\n",
       "      <td>1</td>\n",
       "    </tr>\n",
       "    <tr>\n",
       "      <th>2</th>\n",
       "      <td>effective but too-tepid biopic</td>\n",
       "      <td>1</td>\n",
       "    </tr>\n",
       "    <tr>\n",
       "      <th>3</th>\n",
       "      <td>if you sometimes like to go to the movies to h...</td>\n",
       "      <td>1</td>\n",
       "    </tr>\n",
       "    <tr>\n",
       "      <th>4</th>\n",
       "      <td>emerges as something rare , an issue movie tha...</td>\n",
       "      <td>1</td>\n",
       "    </tr>\n",
       "  </tbody>\n",
       "</table>\n",
       "</div>"
      ],
      "text/plain": [
       "                                                text  label\n",
       "0  the rock is destined to be the 21st century's ...      1\n",
       "1  the gorgeously elaborate continuation of \" the...      1\n",
       "2                     effective but too-tepid biopic      1\n",
       "3  if you sometimes like to go to the movies to h...      1\n",
       "4  emerges as something rare , an issue movie tha...      1"
      ]
     },
     "execution_count": 3,
     "metadata": {},
     "output_type": "execute_result"
    }
   ],
   "source": [
    "from datasets import load_dataset\n",
    "import pandas as pd\n",
    "dataset = load_dataset(\"rotten_tomatoes\")\n",
    "#convert to dataframe\n",
    "df_train = pd.DataFrame(dataset['train'])\n",
    "df_test = pd.DataFrame(dataset['test'])\n",
    "df_val = pd.DataFrame(dataset['validation'])\n",
    "print(df_train.shape)\n",
    "print(df_test.shape)\n",
    "print(df_val.shape)\n",
    "\n",
    "df_train.head()"
   ]
  },
  {
   "cell_type": "code",
   "execution_count": 4,
   "metadata": {},
   "outputs": [],
   "source": [
    "template = '''[INST] Do you think that \"{comment}” is negative or positive sentiment?\n",
    "\n",
    "Choices:\n",
    "(A) Negative\n",
    "(B) Positive\n",
    "\n",
    "[/INST] I believe the best answer is: ('''\n",
    "\n",
    "#note: in the rotten tomatoes dataset, 1 is positive and 0 is negative\n",
    "#in our template, B is positive and A is negative\n",
    "Labels = ['A', 'B']\n",
    "\n",
    "A_index = tokenizer.convert_tokens_to_ids('A')\n",
    "B_index = tokenizer.convert_tokens_to_ids('B')"
   ]
  },
  {
   "cell_type": "code",
   "execution_count": null,
   "metadata": {},
   "outputs": [],
   "source": [
    "def filtration(df):\n",
    "\n",
    "    batch_size = 64\n",
    "    num_batches = len(df) // batch_size + 1\n",
    "\n",
    "    for batch_idx in tqdm(range(num_batches)):\n",
    "\n",
    "        start_idx = batch_idx * batch_size\n",
    "        end_idx = min((batch_idx + 1) * batch_size, len(df))\n",
    "        batch_df = df.iloc[start_idx:end_idx]\n",
    "\n",
    "        prompts = [template.format(comment=row['text']) for _, row in batch_df.iterrows()]\n",
    "        tokens = tokenizer.batch_encode_plus(prompts, return_tensors='pt', padding=True, truncation=False).to(device=cuda)\n",
    "\n",
    "        with torch.no_grad():\n",
    "            # print('tokens: ', tokens['input_ids'])\n",
    "            # print('attention mask: ', tokens['attention_mask'])\n",
    "            output = model(tokens['input_ids'], attention_mask=tokens['attention_mask'])\n",
    "            \n",
    "            logits = output.logits\n",
    "\n",
    "            for i in range(logits.shape[0]):\n",
    "                #get the logits for the last token\n",
    "                current_logits = logits[i, -1, :]\n",
    "                #get the most likely token\n",
    "                most_likely_token_index = torch.argmax(current_logits).item()\n",
    "                most_likely = tokenizer.convert_ids_to_tokens([most_likely_token_index])[0] \n",
    "\n",
    "                # print('text: ', batch_df.iloc[i]['text'])\n",
    "                # print('label: ', batch_df.iloc[i]['label'])\n",
    "                # print('most likely: ', most_likely)\n",
    "\n",
    "                # if most_likely != 'A' and most_likely != 'B':\n",
    "                #     print('Unexpected token: ', most_likely)\n",
    "                #     print('prompt: ', batch_df.iloc[i]['text'])\n",
    "\n",
    "                #if the most likely token corresponds to the correct label\n",
    "                if most_likely == Labels[batch_df.iloc[i]['label']]:\n",
    "\n",
    "                    # print('correct')\n",
    "                    A_B_logits = current_logits[[A_index, B_index]]                \n",
    "                    A_B_logits = torch.softmax(A_B_logits, dim=0)\n",
    "                    certainty = A_B_logits[batch_df.iloc[i]['label']].item()\n",
    "                    df.loc[start_idx+i,'correct'] = certainty\n",
    "\n",
    "                else: \n",
    "                    # print('incorrect: ', most_likely_token_index)\n",
    "                    # print('prompt: ', prompts[i])\n",
    "                    df.loc[start_idx+i,'correct'] = 0\n",
    "\n",
    "                # if i==batch_size-1:\n",
    "                #     print(\"COMPLETE OUTPUT ##############################################################################################\")\n",
    "                #     answers = model.generate(tokens['input_ids'], attention_mask=tokens['attention_mask'], max_length=200, do_sample=False)\n",
    "                #     decoded_answers = tokenizer.batch_decode(answers, skip_special_tokens=False)\n",
    "                #     for index, el in enumerate(decoded_answers):\n",
    "                #         print(el)\n",
    "                            \n",
    "                #     raise Exception('stop')\n",
    "            \n",
    "            #release memory\n",
    "        torch.cuda.empty_cache()\n",
    "\n"
   ]
  },
  {
   "cell_type": "code",
   "execution_count": 21,
   "metadata": {},
   "outputs": [
    {
     "data": {
      "text/plain": [
       "<Axes: >"
      ]
     },
     "execution_count": 21,
     "metadata": {},
     "output_type": "execute_result"
    },
    {
     "data": {
      "image/png": "[encoded data removed]",
      "text/plain": [
       "<Figure size 300x300 with 1 Axes>"
      ]
     },
     "metadata": {},
     "output_type": "display_data"
    }
   ],
   "source": [
    "df_train['correct'] = np.nan\n",
    "filtration(df_train)\n",
    "#get the distribution of the certainty scores\n",
    "df_train['correct'].hist(bins=50, figsize=(3,3))"
   ]
  },
  {
   "cell_type": "code",
   "execution_count": 20,
   "metadata": {},
   "outputs": [
    {
     "name": "stderr",
     "output_type": "stream",
     "text": [
      "100%|██████████| 267/267 [00:22<00:00, 12.06it/s]\n"
     ]
    },
    {
     "data": {
      "text/plain": [
       "<Axes: >"
      ]
     },
     "execution_count": 20,
     "metadata": {},
     "output_type": "execute_result"
    },
    {
     "data": {
      "image/png": "[encoded data removed]",
      "text/plain": [
       "<Figure size 300x300 with 1 Axes>"
      ]
     },
     "metadata": {},
     "output_type": "display_data"
    }
   ],
   "source": [
    "df_test['correct'] = np.nan\n",
    "filtration(df_test)\n",
    "#get the distribution of the certainty scores\n",
    "df_test['correct'].hist(bins=50, figsize=(3,3))"
   ]
  },
  {
   "cell_type": "code",
   "execution_count": 22,
   "metadata": {},
   "outputs": [
    {
     "name": "stderr",
     "output_type": "stream",
     "text": [
      "100%|██████████| 267/267 [00:22<00:00, 12.05it/s]\n"
     ]
    },
    {
     "data": {
      "text/plain": [
       "<Axes: >"
      ]
     },
     "execution_count": 22,
     "metadata": {},
     "output_type": "execute_result"
    },
    {
     "data": {
      "image/png": "[encoded data removed]",
      "text/plain": [
       "<Figure size 300x300 with 1 Axes>"
      ]
     },
     "metadata": {},
     "output_type": "display_data"
    }
   ],
   "source": [
    "df_val['correct'] = np.nan\n",
    "filtration(df_val) \n",
    "#get the distribution of the certainty scores\n",
    "df_val['correct'].hist(bins=50, figsize=(3,3))"
   ]
  },
  {
   "cell_type": "code",
   "execution_count": 23,
   "metadata": {},
   "outputs": [
    {
     "name": "stdout",
     "output_type": "stream",
     "text": [
      "percentage of correct answers\n",
      "0.5715123094958968\n",
      "0.5656660412757973\n",
      "0.575046904315197\n",
      "percentage of uncorrect answers\n",
      "0.42626025791324734\n",
      "0.43151969981238275\n",
      "0.42213883677298314\n"
     ]
    }
   ],
   "source": [
    "#print the percentage of correct answers\n",
    "print(\"percentage of correct answers\")\n",
    "print((df_train['correct'] > 0.5).sum() / len(df_train))\n",
    "print((df_test['correct'] > 0.5).sum() / len(df_test))\n",
    "print((df_val['correct'] > 0.5).sum() / len(df_val))\n",
    "\n",
    "#print the percentage of correct == 0 answers\n",
    "print(\"percentage of uncorrect answers\")\n",
    "print((df_train['correct'] == 0).sum() / len(df_train))\n",
    "print((df_test['correct'] == 0).sum() / len(df_test))\n",
    "print((df_val['correct'] == 0).sum() / len(df_val))"
   ]
  },
  {
   "cell_type": "code",
   "execution_count": 34,
   "metadata": {},
   "outputs": [
    {
     "name": "stdout",
     "output_type": "stream",
     "text": [
      "[0.15099648300117233, 0.13696060037523453, 0.15572232645403378]\n",
      "[0.9964830011723329, 1.0, 1.0]\n"
     ]
    },
    {
     "data": {
      "image/png": "[encoded data removed]",
      "text/plain": [
       "<Figure size 500x500 with 1 Axes>"
      ]
     },
     "metadata": {},
     "output_type": "display_data"
    }
   ],
   "source": [
    "#count the percentage of correct > 0.0 for both labels==1 and labels==0 and do a bar plot for all the df\n",
    "df_array = [df_train, df_test, df_val]\n",
    "correct_label_0 = [df [df['label']==0]['correct'].apply(lambda x: x>0.0).mean() for df in df_array]\n",
    "print(correct_label_0)\n",
    "correct_label_1 = [df [df['label']==1]['correct'].apply(lambda x: x>0.0).mean() for df in df_array]\n",
    "print(correct_label_1)\n",
    "\n",
    "\n",
    "\n",
    "labels = ['train', 'test', 'val']\n",
    "x = np.arange(len(labels))  # the label locations\n",
    "width = 0.35  # the width of the bars\n",
    "\n",
    "fig, ax = plt.subplots(figsize=(5,5))\n",
    "rects1 = ax.bar(x - width/2, correct_label_0, width, label='Negative')\n",
    "rects2 = ax.bar(x + width/2, correct_label_1, width, label='Positive')\n",
    "\n",
    "# Add some text for labels, title and custom x-axis tick labels, etc.\n",
    "ax.set_ylabel('Percentage of correct answers')\n",
    "ax.set_title('Percentage of correct answers by label for: (A) Negative, (B) Positive')\n",
    "ax.set_xticks(x)\n",
    "ax.set_xticklabels(labels)\n",
    "ax.legend()\n",
    "\n",
    "fig.tight_layout()\n",
    "\n",
    "plt.show()"
   ]
  },
  {
   "cell_type": "code",
   "execution_count": 36,
   "metadata": {},
   "outputs": [],
   "source": [
    "#save to csv\n",
    "df_train.to_csv('datasets/rotten_tomato_llama_2_7b_train_(A)Negative_(B)Positive.csv')\n",
    "df_test.to_csv('datasets/rotten_tomato_llama_2_7b_test_(A)Negative_(B)Positive.csv')\n",
    "df_val.to_csv('datasets/rotten_tomato_llama_2_7b_val_(A)Negative_(B)Positive.csv')"
   ]
  },
  {
   "cell_type": "code",
   "execution_count": null,
   "metadata": {},
   "outputs": [],
   "source": []
  }
 ],
 "metadata": {
  "kernelspec": {
   "display_name": "LAT",
   "language": "python",
   "name": "python3"
  },
  "language_info": {
   "codemirror_mode": {
    "name": "ipython",
    "version": 3
   },
   "file_extension": ".py",
   "mimetype": "text/x-python",
   "name": "python",
   "nbconvert_exporter": "python",
   "pygments_lexer": "ipython3",
   "version": "3.11.5"
  }
 },
 "nbformat": 4,
 "nbformat_minor": 2
}
