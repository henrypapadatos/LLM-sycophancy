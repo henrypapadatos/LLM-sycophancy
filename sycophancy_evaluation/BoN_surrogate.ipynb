{
 "cells": [
  {
   "cell_type": "code",
   "execution_count": null,
   "metadata": {},
   "outputs": [],
   "source": [
    "import pandas as pd\n",
    "import ast\n",
    "import random"
   ]
  },
  {
   "cell_type": "code",
   "execution_count": null,
   "metadata": {},
   "outputs": [],
   "source": [
    "file = '/nas/ucb/henrypapadatos/Sycophancy/results/BoN_RM_Starling_scores_distribution.csv'\n",
    "df = pd.read_csv(file)\n",
    "\n",
    "df['N_response'] = df['N_response'].apply(ast.literal_eval)\n",
    "df['probe_score'] = df['probe_score'].apply(ast.literal_eval)\n",
    "\n",
    "Lambda = 0.5\n",
    "\n",
    "df.head(3)"
   ]
  },
  {
   "cell_type": "code",
   "execution_count": null,
   "metadata": {},
   "outputs": [],
   "source": [
    "#create a dictionary with keys 1,2,4,8,16,32; these will be the number of samples (N)\n",
    "BoN = {}\n",
    "for i in range(6):\n",
    "    BoN[2**i] = []\n",
    "\n",
    "for index, row in df.iterrows():\n",
    "    response_list = row['N_response']\n",
    "    probe_score_list = row['probe_score']\n",
    "    RM_score_list = row['RM_score']\n",
    "\n",
    "    score_list = [x - y * Lambda for x, y in zip(probe_score_list, RM_score_list)]\n",
    "\n",
    "\n",
    "    #we now sample N(=key) elements from the score_list and store the best response in the BoN dictionary\n",
    "    for key in BoN.keys():\n",
    "        random_scores = random.sample(score_list, key)\n",
    "        best_score_index = score_list.index(max(random_scores))\n",
    "        #we keep inly the response, not the prompt and we remove the eos token\n",
    "        best_response = response_list[best_score_index].split('GPT4 Correct Assistant: Here are my thoughts on the poem:')[1].replace('<|end_of_turn|>','')\n",
    "        # print('Best response for N = ', key)     \n",
    "        # print(best_response)\n",
    "        # print('########################################################################')\n",
    "        BoN[key].append(best_response)\n",
    "\n",
    "#add the dictionary to the dataframe\n",
    "for key in BoN.keys():\n",
    "    df['BoN_'+str(key)] = BoN[key]"
   ]
  },
  {
   "cell_type": "code",
   "execution_count": null,
   "metadata": {},
   "outputs": [],
   "source": [
    "new_file_name = file.split('.csv')[0] + f'_lambda{Lambda}.csv'\n",
    "new_df = pd.DataFrame(BoN)"
   ]
  }
 ],
 "metadata": {
  "kernelspec": {
   "display_name": "LAT",
   "language": "python",
   "name": "python3"
  },
  "language_info": {
   "name": "python",
   "version": "3.11.5"
  }
 },
 "nbformat": 4,
 "nbformat_minor": 2
}
