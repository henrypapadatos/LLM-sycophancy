{
 "cells": [
  {
   "cell_type": "code",
   "execution_count": 1,
   "metadata": {},
   "outputs": [
    {
     "name": "stdout",
     "output_type": "stream",
     "text": [
      "NVIDIA RTX A6000\n"
     ]
    }
   ],
   "source": [
    "import os\n",
    "AVAILABLE_GPUS = '5'\n",
    "os.environ['CUDA_VISIBLE_DEVICES'] = AVAILABLE_GPUS\n",
    "\n",
    "import torch\n",
    "import matplotlib.pyplot as plt\n",
    "from tqdm import tqdm\n",
    "from transformers import AutoTokenizer, AutoModelForCausalLM, AutoModelForSequenceClassification, GPTNeoXForCausalLM\n",
    "\n",
    "for i in range(torch.cuda.device_count()):\n",
    "   print(torch.cuda.get_device_properties(i).name)"
   ]
  },
  {
   "cell_type": "code",
   "execution_count": 2,
   "metadata": {},
   "outputs": [
    {
     "data": {
      "application/vnd.jupyter.widget-view+json": {
       "model_id": "eeaaeb6de2c441228f8bf969289a36ec",
       "version_major": 2,
       "version_minor": 0
      },
      "text/plain": [
       "Loading checkpoint shards:   0%|          | 0/2 [00:00<?, ?it/s]"
      ]
     },
     "metadata": {},
     "output_type": "display_data"
    },
    {
     "name": "stderr",
     "output_type": "stream",
     "text": [
      "/nas/ucb/henrypapadatos/Miniconda3/envs/LAT/lib/python3.11/site-packages/transformers/generation/configuration_utils.py:381: UserWarning: `do_sample` is set to `False`. However, `temperature` is set to `0.5` -- this flag is only used in sample-based generation modes. You should set `do_sample=True` or unset `temperature`. This was detected when initializing the generation config instance, which means the corresponding file may hold incorrect parameterization and should be fixed.\n",
      "  warnings.warn(\n",
      "Special tokens have been added in the vocabulary, make sure the associated word embeddings are fine-tuned or trained.\n"
     ]
    }
   ],
   "source": [
    "# model_name_or_path = \"OpenAssistant/pythia-12b-sft-v8-rlhf-2k-steps\" #23GB\n",
    "# model_name_or_path = \"OpenAssistant/pythia-12b-sft-v8-2.5k-steps\" #23GB\n",
    "# model_name_or_path = \"berkeley-nest/Starling-LM-7B-alpha\" #28GB\n",
    "model_name_or_path = 'openchat/openchat_3.5' #28GB\n",
    "\n",
    "if \"OpenAssistant\" in model_name_or_path:\n",
    "    model = GPTNeoXForCausalLM.from_pretrained(model_name_or_path, torch_dtype=torch.float16, device_map='auto')\n",
    "    tokenizer = AutoTokenizer.from_pretrained(model_name_or_path, padding_side=\"left\", legacy=False)\n",
    "else:\n",
    "    model = AutoModelForCausalLM.from_pretrained(model_name_or_path, torch_dtype=torch.float16, device_map=\"auto\", cache_dir='/scratch/henrypapadatos')\n",
    "    tokenizer = AutoTokenizer.from_pretrained(model_name_or_path, cache_dir='/scratch/henrypapadatos')\n",
    "    tokenizer.pad_token_id=tokenizer.eos_token_id\n"
   ]
  },
  {
   "cell_type": "code",
   "execution_count": 5,
   "metadata": {},
   "outputs": [
    {
     "name": "stdout",
     "output_type": "stream",
     "text": [
      "Number of samples: 300\n"
     ]
    }
   ],
   "source": [
    "import pandas as pd\n",
    "import json\n",
    "\n",
    "cut_off = 300\n",
    "\n",
    "temperature = 0.2 if \"OpenAssistant\" in model_name_or_path else 0.5\n",
    "\n",
    "def load_from_jsonl(file_name: str, cut_off: int) -> list[dict]:\n",
    "    def load_json_line(line: str, i: int, file_name: str):\n",
    "        try:\n",
    "            return json.loads(line)\n",
    "        except:\n",
    "            raise ValueError(f\"Error in line {i+1}\\n{line} of {file_name}\")\n",
    "    with open(file_name, \"r\") as f:\n",
    "        data = [load_json_line(line, i, file_name) for i, line in enumerate(f) if i < cut_off]\n",
    "    return data\n",
    "\n",
    "def get_prompt(d):\n",
    "    prompt = d['prompt'][0]['content']\n",
    "    if \"OpenAssistant\" in model_name_or_path:\n",
    "        prompt = '<|prompter|>' + prompt + '<|endoftext|>\\n<|assistant|>Here are my thoughts on the poem:\\n'\n",
    "    elif \"Starling\" or 'openchat' in model_name_or_path:\n",
    "        prompt = 'GPT4 Correct User:' + prompt + '<|end_of_turn|>\\nGPT4 Correct Assistant: Here are my thoughts on the poem:\\n'\n",
    "    return prompt \n",
    "\n",
    "dataset_filename: str = \"feedback_poem.jsonl\"\n",
    "dataset_path = os.path.join(\"datasets\", dataset_filename)\n",
    "dataset = load_from_jsonl(dataset_path, cut_off)\n",
    "print(\"Number of samples:\",len(dataset))\n",
    "prompts= [get_prompt(d) for d in dataset]"
   ]
  },
  {
   "cell_type": "code",
   "execution_count": 6,
   "metadata": {},
   "outputs": [
    {
     "name": "stdout",
     "output_type": "stream",
     "text": [
      "step: 0 out of: 60\n",
      "step: 1 out of: 60\n",
      "step: 2 out of: 60\n",
      "step: 3 out of: 60\n",
      "step: 4 out of: 60\n",
      "step: 5 out of: 60\n",
      "step: 6 out of: 60\n",
      "step: 7 out of: 60\n",
      "step: 8 out of: 60\n",
      "step: 9 out of: 60\n",
      "step: 10 out of: 60\n",
      "step: 11 out of: 60\n",
      "step: 12 out of: 60\n",
      "step: 13 out of: 60\n",
      "step: 14 out of: 60\n",
      "step: 15 out of: 60\n",
      "step: 16 out of: 60\n",
      "step: 17 out of: 60\n",
      "step: 18 out of: 60\n",
      "step: 19 out of: 60\n",
      "step: 20 out of: 60\n",
      "step: 21 out of: 60\n",
      "step: 22 out of: 60\n",
      "step: 23 out of: 60\n",
      "step: 24 out of: 60\n",
      "step: 25 out of: 60\n",
      "step: 26 out of: 60\n",
      "step: 27 out of: 60\n",
      "step: 28 out of: 60\n",
      "step: 29 out of: 60\n",
      "step: 30 out of: 60\n",
      "step: 31 out of: 60\n",
      "step: 32 out of: 60\n",
      "step: 33 out of: 60\n",
      "step: 34 out of: 60\n",
      "step: 35 out of: 60\n",
      "step: 36 out of: 60\n",
      "step: 37 out of: 60\n",
      "step: 38 out of: 60\n",
      "step: 39 out of: 60\n",
      "step: 40 out of: 60\n",
      "step: 41 out of: 60\n",
      "step: 42 out of: 60\n",
      "step: 43 out of: 60\n",
      "step: 44 out of: 60\n",
      "step: 45 out of: 60\n",
      "step: 46 out of: 60\n",
      "step: 47 out of: 60\n",
      "step: 48 out of: 60\n",
      "step: 49 out of: 60\n",
      "step: 50 out of: 60\n",
      "step: 51 out of: 60\n",
      "step: 52 out of: 60\n",
      "step: 53 out of: 60\n",
      "step: 54 out of: 60\n",
      "step: 55 out of: 60\n",
      "step: 56 out of: 60\n",
      "step: 57 out of: 60\n",
      "step: 58 out of: 60\n",
      "step: 59 out of: 60\n"
     ]
    }
   ],
   "source": [
    "output_array = []\n",
    "for i in range(0, len(prompts), 5):\n",
    "    print(\"step: \" +str(i//5) + \" out of: \" +str(len(prompts)//5))\n",
    "    model_inputs = tokenizer(prompts[i:i+5], return_tensors=\"pt\", padding=True).to(\"cuda\")\n",
    "    generated_ids = model.generate(**model_inputs, max_length=1200, pad_token_id=tokenizer.eos_token_id, do_sample=True, temperature=temperature)\n",
    "    output = tokenizer.batch_decode(generated_ids, skip_special_tokens=True)\n",
    "    output_array.append(output)\n",
    "\n",
    "    # for i in range(5):\n",
    "    # #     print(prompts[i])\n",
    "    #     print(output[i].split('Here are my thoughts on the poem:')[1])\n",
    "    #     print(\"#############################################\")"
   ]
  },
  {
   "cell_type": "code",
   "execution_count": 7,
   "metadata": {},
   "outputs": [],
   "source": [
    "# flatten output array\n",
    "flat_output_array = [item for sublist in output_array for item in sublist]\n",
    "\n",
    "# remove prompt from output\n",
    "cleaned_output_array = [item.split('Here are my thoughts on the poem:\\n')[1] for item in flat_output_array]"
   ]
  },
  {
   "cell_type": "code",
   "execution_count": 8,
   "metadata": {},
   "outputs": [
    {
     "name": "stdout",
     "output_type": "stream",
     "text": [
      "                                              prompt  \\\n",
      "0  GPT4 Correct User:Please comment briefly on th...   \n",
      "1  GPT4 Correct User:Please comment briefly on th...   \n",
      "2  GPT4 Correct User:Please comment briefly on th...   \n",
      "3  GPT4 Correct User:Please comment briefly on th...   \n",
      "4  GPT4 Correct User:Please comment briefly on th...   \n",
      "\n",
      "                                            response       type  \n",
      "0  \\nThe poem is an exploration of the interplay ...       base  \n",
      "1  \\nThis poem is an evocative and thought-provok...       like  \n",
      "2  \\nThe poem explores the themes of beauty and f...    dislike  \n",
      "3  \\nThe poem beautifully captures the interplay ...      wrote  \n",
      "4  \\nThe poem is a beautiful exploration of the i...  not_wrote  \n",
      "file name: openchat_openchat_3.5_11_28_2023_12_18_27_feedback_poem_300.csv\n"
     ]
    }
   ],
   "source": [
    "import datetime\n",
    "now = datetime.datetime.now()\n",
    "\n",
    "#create pandas dataframe with the array prompts as attribute prompt and the cleaned_output_array as attribute response\n",
    "df = pd.DataFrame({'prompt': prompts, 'response': cleaned_output_array})\n",
    "\n",
    "#create a new \"type\" column and fille it with \"base\" if the index is a multiple of 5, \"like\" if index%5 == 1, \"dislike\" if index%5 == 2, \"wrote\" if index%5 == 3, \"not_wrote\" if index%5 == 4\n",
    "df['type'] = df.index.map(lambda x: 'base' if x%5 == 0 else 'like' if x%5 == 1 else 'dislike' if x%5 == 2 else 'wrote' if x%5 == 3 else 'not_wrote')\n",
    "\n",
    "print(df.head())\n",
    "\n",
    "#create a file name with current date and time\n",
    "date_time = now.strftime(\"%m_%d_%Y_%H_%M_%S\")\n",
    "file_name = (model_name_or_path + \"_\" + date_time + \"_\" + dataset_filename.split(\".\")[0] + \"_\" + str(cut_off) + \".csv\").replace(\"/\", \"_\")\n",
    "file_path = \"results/\" + file_name\n",
    "print(\"file name:\", file_name)\n",
    "\n",
    "#save dataframe as csv\n",
    "df.to_csv(file_path, index=False)"
   ]
  }
 ],
 "metadata": {
  "kernelspec": {
   "display_name": "LAT",
   "language": "python",
   "name": "python3"
  },
  "language_info": {
   "codemirror_mode": {
    "name": "ipython",
    "version": 3
   },
   "file_extension": ".py",
   "mimetype": "text/x-python",
   "name": "python",
   "nbconvert_exporter": "python",
   "pygments_lexer": "ipython3",
   "version": "3.11.5"
  }
 },
 "nbformat": 4,
 "nbformat_minor": 2
}
